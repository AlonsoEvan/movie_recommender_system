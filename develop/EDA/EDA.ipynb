{
 "cells": [
  {
   "cell_type": "markdown",
   "metadata": {},
   "source": [
    "# Movie Recommender System\n"
   ]
  },
  {
   "cell_type": "markdown",
   "metadata": {},
   "source": [
    "## EDA\n"
   ]
  },
  {
   "cell_type": "code",
   "execution_count": 2,
   "metadata": {
    "collapsed": true
   },
   "outputs": [],
   "source": [
    "%matplotlib inline\n",
    "import pandas as pd\n",
    "import numpy as np\n",
    "import matplotlib.pyplot as plt\n",
    "from scipy import stats\n",
    "from ast import literal_eval\n",
    "from sklearn.feature_extraction.text import TfidfVectorizer, CountVectorizer\n",
    "from sklearn.metrics.pairwise import linear_kernel, cosine_similarity\n",
    "from nltk.stem.snowball import SnowballStemmer\n",
    "from nltk.stem.wordnet import WordNetLemmatizer\n",
    "from nltk.corpus import wordnet\n",
    "from surprise import Reader, Dataset, SVD, evaluate\n",
    "\n",
    "import warnings; warnings.simplefilter('ignore')"
   ]
  },
  {
   "cell_type": "code",
   "execution_count": 3,
   "metadata": {},
   "outputs": [
    {
     "data": {
      "text/html": [
       "<div>\n",
       "<style scoped>\n",
       "    .dataframe tbody tr th:only-of-type {\n",
       "        vertical-align: middle;\n",
       "    }\n",
       "\n",
       "    .dataframe tbody tr th {\n",
       "        vertical-align: top;\n",
       "    }\n",
       "\n",
       "    .dataframe thead th {\n",
       "        text-align: right;\n",
       "    }\n",
       "</style>\n",
       "<table border=\"1\" class=\"dataframe\">\n",
       "  <thead>\n",
       "    <tr style=\"text-align: right;\">\n",
       "      <th></th>\n",
       "      <th>adult</th>\n",
       "      <th>belongs_to_collection</th>\n",
       "      <th>budget</th>\n",
       "      <th>genres</th>\n",
       "      <th>homepage</th>\n",
       "      <th>id</th>\n",
       "      <th>imdb_id</th>\n",
       "      <th>original_language</th>\n",
       "      <th>original_title</th>\n",
       "      <th>overview</th>\n",
       "      <th>...</th>\n",
       "      <th>release_date</th>\n",
       "      <th>revenue</th>\n",
       "      <th>runtime</th>\n",
       "      <th>spoken_languages</th>\n",
       "      <th>status</th>\n",
       "      <th>tagline</th>\n",
       "      <th>title</th>\n",
       "      <th>video</th>\n",
       "      <th>vote_average</th>\n",
       "      <th>vote_count</th>\n",
       "    </tr>\n",
       "  </thead>\n",
       "  <tbody>\n",
       "    <tr>\n",
       "      <th>0</th>\n",
       "      <td>False</td>\n",
       "      <td>{'id': 10194, 'name': 'Toy Story Collection', ...</td>\n",
       "      <td>30000000</td>\n",
       "      <td>[{'id': 16, 'name': 'Animation'}, {'id': 35, '...</td>\n",
       "      <td>http://toystory.disney.com/toy-story</td>\n",
       "      <td>862</td>\n",
       "      <td>tt0114709</td>\n",
       "      <td>en</td>\n",
       "      <td>Toy Story</td>\n",
       "      <td>Led by Woody, Andy's toys live happily in his ...</td>\n",
       "      <td>...</td>\n",
       "      <td>1995-10-30</td>\n",
       "      <td>373554033.0</td>\n",
       "      <td>81.0</td>\n",
       "      <td>[{'iso_639_1': 'en', 'name': 'English'}]</td>\n",
       "      <td>Released</td>\n",
       "      <td>NaN</td>\n",
       "      <td>Toy Story</td>\n",
       "      <td>False</td>\n",
       "      <td>7.7</td>\n",
       "      <td>5415.0</td>\n",
       "    </tr>\n",
       "    <tr>\n",
       "      <th>1</th>\n",
       "      <td>False</td>\n",
       "      <td>NaN</td>\n",
       "      <td>65000000</td>\n",
       "      <td>[{'id': 12, 'name': 'Adventure'}, {'id': 14, '...</td>\n",
       "      <td>NaN</td>\n",
       "      <td>8844</td>\n",
       "      <td>tt0113497</td>\n",
       "      <td>en</td>\n",
       "      <td>Jumanji</td>\n",
       "      <td>When siblings Judy and Peter discover an encha...</td>\n",
       "      <td>...</td>\n",
       "      <td>1995-12-15</td>\n",
       "      <td>262797249.0</td>\n",
       "      <td>104.0</td>\n",
       "      <td>[{'iso_639_1': 'en', 'name': 'English'}, {'iso...</td>\n",
       "      <td>Released</td>\n",
       "      <td>Roll the dice and unleash the excitement!</td>\n",
       "      <td>Jumanji</td>\n",
       "      <td>False</td>\n",
       "      <td>6.9</td>\n",
       "      <td>2413.0</td>\n",
       "    </tr>\n",
       "    <tr>\n",
       "      <th>2</th>\n",
       "      <td>False</td>\n",
       "      <td>{'id': 119050, 'name': 'Grumpy Old Men Collect...</td>\n",
       "      <td>0</td>\n",
       "      <td>[{'id': 10749, 'name': 'Romance'}, {'id': 35, ...</td>\n",
       "      <td>NaN</td>\n",
       "      <td>15602</td>\n",
       "      <td>tt0113228</td>\n",
       "      <td>en</td>\n",
       "      <td>Grumpier Old Men</td>\n",
       "      <td>A family wedding reignites the ancient feud be...</td>\n",
       "      <td>...</td>\n",
       "      <td>1995-12-22</td>\n",
       "      <td>0.0</td>\n",
       "      <td>101.0</td>\n",
       "      <td>[{'iso_639_1': 'en', 'name': 'English'}]</td>\n",
       "      <td>Released</td>\n",
       "      <td>Still Yelling. Still Fighting. Still Ready for...</td>\n",
       "      <td>Grumpier Old Men</td>\n",
       "      <td>False</td>\n",
       "      <td>6.5</td>\n",
       "      <td>92.0</td>\n",
       "    </tr>\n",
       "    <tr>\n",
       "      <th>3</th>\n",
       "      <td>False</td>\n",
       "      <td>NaN</td>\n",
       "      <td>16000000</td>\n",
       "      <td>[{'id': 35, 'name': 'Comedy'}, {'id': 18, 'nam...</td>\n",
       "      <td>NaN</td>\n",
       "      <td>31357</td>\n",
       "      <td>tt0114885</td>\n",
       "      <td>en</td>\n",
       "      <td>Waiting to Exhale</td>\n",
       "      <td>Cheated on, mistreated and stepped on, the wom...</td>\n",
       "      <td>...</td>\n",
       "      <td>1995-12-22</td>\n",
       "      <td>81452156.0</td>\n",
       "      <td>127.0</td>\n",
       "      <td>[{'iso_639_1': 'en', 'name': 'English'}]</td>\n",
       "      <td>Released</td>\n",
       "      <td>Friends are the people who let you be yourself...</td>\n",
       "      <td>Waiting to Exhale</td>\n",
       "      <td>False</td>\n",
       "      <td>6.1</td>\n",
       "      <td>34.0</td>\n",
       "    </tr>\n",
       "    <tr>\n",
       "      <th>4</th>\n",
       "      <td>False</td>\n",
       "      <td>{'id': 96871, 'name': 'Father of the Bride Col...</td>\n",
       "      <td>0</td>\n",
       "      <td>[{'id': 35, 'name': 'Comedy'}]</td>\n",
       "      <td>NaN</td>\n",
       "      <td>11862</td>\n",
       "      <td>tt0113041</td>\n",
       "      <td>en</td>\n",
       "      <td>Father of the Bride Part II</td>\n",
       "      <td>Just when George Banks has recovered from his ...</td>\n",
       "      <td>...</td>\n",
       "      <td>1995-02-10</td>\n",
       "      <td>76578911.0</td>\n",
       "      <td>106.0</td>\n",
       "      <td>[{'iso_639_1': 'en', 'name': 'English'}]</td>\n",
       "      <td>Released</td>\n",
       "      <td>Just When His World Is Back To Normal... He's ...</td>\n",
       "      <td>Father of the Bride Part II</td>\n",
       "      <td>False</td>\n",
       "      <td>5.7</td>\n",
       "      <td>173.0</td>\n",
       "    </tr>\n",
       "    <tr>\n",
       "      <th>5</th>\n",
       "      <td>False</td>\n",
       "      <td>NaN</td>\n",
       "      <td>60000000</td>\n",
       "      <td>[{'id': 28, 'name': 'Action'}, {'id': 80, 'nam...</td>\n",
       "      <td>NaN</td>\n",
       "      <td>949</td>\n",
       "      <td>tt0113277</td>\n",
       "      <td>en</td>\n",
       "      <td>Heat</td>\n",
       "      <td>Obsessive master thief, Neil McCauley leads a ...</td>\n",
       "      <td>...</td>\n",
       "      <td>1995-12-15</td>\n",
       "      <td>187436818.0</td>\n",
       "      <td>170.0</td>\n",
       "      <td>[{'iso_639_1': 'en', 'name': 'English'}, {'iso...</td>\n",
       "      <td>Released</td>\n",
       "      <td>A Los Angeles Crime Saga</td>\n",
       "      <td>Heat</td>\n",
       "      <td>False</td>\n",
       "      <td>7.7</td>\n",
       "      <td>1886.0</td>\n",
       "    </tr>\n",
       "    <tr>\n",
       "      <th>6</th>\n",
       "      <td>False</td>\n",
       "      <td>NaN</td>\n",
       "      <td>58000000</td>\n",
       "      <td>[{'id': 35, 'name': 'Comedy'}, {'id': 10749, '...</td>\n",
       "      <td>NaN</td>\n",
       "      <td>11860</td>\n",
       "      <td>tt0114319</td>\n",
       "      <td>en</td>\n",
       "      <td>Sabrina</td>\n",
       "      <td>An ugly duckling having undergone a remarkable...</td>\n",
       "      <td>...</td>\n",
       "      <td>1995-12-15</td>\n",
       "      <td>0.0</td>\n",
       "      <td>127.0</td>\n",
       "      <td>[{'iso_639_1': 'fr', 'name': 'Français'}, {'is...</td>\n",
       "      <td>Released</td>\n",
       "      <td>You are cordially invited to the most surprisi...</td>\n",
       "      <td>Sabrina</td>\n",
       "      <td>False</td>\n",
       "      <td>6.2</td>\n",
       "      <td>141.0</td>\n",
       "    </tr>\n",
       "    <tr>\n",
       "      <th>7</th>\n",
       "      <td>False</td>\n",
       "      <td>NaN</td>\n",
       "      <td>0</td>\n",
       "      <td>[{'id': 28, 'name': 'Action'}, {'id': 12, 'nam...</td>\n",
       "      <td>NaN</td>\n",
       "      <td>45325</td>\n",
       "      <td>tt0112302</td>\n",
       "      <td>en</td>\n",
       "      <td>Tom and Huck</td>\n",
       "      <td>A mischievous young boy, Tom Sawyer, witnesses...</td>\n",
       "      <td>...</td>\n",
       "      <td>1995-12-22</td>\n",
       "      <td>0.0</td>\n",
       "      <td>97.0</td>\n",
       "      <td>[{'iso_639_1': 'en', 'name': 'English'}, {'iso...</td>\n",
       "      <td>Released</td>\n",
       "      <td>The Original Bad Boys.</td>\n",
       "      <td>Tom and Huck</td>\n",
       "      <td>False</td>\n",
       "      <td>5.4</td>\n",
       "      <td>45.0</td>\n",
       "    </tr>\n",
       "    <tr>\n",
       "      <th>8</th>\n",
       "      <td>False</td>\n",
       "      <td>NaN</td>\n",
       "      <td>35000000</td>\n",
       "      <td>[{'id': 28, 'name': 'Action'}, {'id': 12, 'nam...</td>\n",
       "      <td>NaN</td>\n",
       "      <td>9091</td>\n",
       "      <td>tt0114576</td>\n",
       "      <td>en</td>\n",
       "      <td>Sudden Death</td>\n",
       "      <td>International action superstar Jean Claude Van...</td>\n",
       "      <td>...</td>\n",
       "      <td>1995-12-22</td>\n",
       "      <td>64350171.0</td>\n",
       "      <td>106.0</td>\n",
       "      <td>[{'iso_639_1': 'en', 'name': 'English'}]</td>\n",
       "      <td>Released</td>\n",
       "      <td>Terror goes into overtime.</td>\n",
       "      <td>Sudden Death</td>\n",
       "      <td>False</td>\n",
       "      <td>5.5</td>\n",
       "      <td>174.0</td>\n",
       "    </tr>\n",
       "    <tr>\n",
       "      <th>9</th>\n",
       "      <td>False</td>\n",
       "      <td>{'id': 645, 'name': 'James Bond Collection', '...</td>\n",
       "      <td>58000000</td>\n",
       "      <td>[{'id': 12, 'name': 'Adventure'}, {'id': 28, '...</td>\n",
       "      <td>http://www.mgm.com/view/movie/757/Goldeneye/</td>\n",
       "      <td>710</td>\n",
       "      <td>tt0113189</td>\n",
       "      <td>en</td>\n",
       "      <td>GoldenEye</td>\n",
       "      <td>James Bond must unmask the mysterious head of ...</td>\n",
       "      <td>...</td>\n",
       "      <td>1995-11-16</td>\n",
       "      <td>352194034.0</td>\n",
       "      <td>130.0</td>\n",
       "      <td>[{'iso_639_1': 'en', 'name': 'English'}, {'iso...</td>\n",
       "      <td>Released</td>\n",
       "      <td>No limits. No fears. No substitutes.</td>\n",
       "      <td>GoldenEye</td>\n",
       "      <td>False</td>\n",
       "      <td>6.6</td>\n",
       "      <td>1194.0</td>\n",
       "    </tr>\n",
       "  </tbody>\n",
       "</table>\n",
       "<p>10 rows × 24 columns</p>\n",
       "</div>"
      ],
      "text/plain": [
       "   adult                              belongs_to_collection    budget  \\\n",
       "0  False  {'id': 10194, 'name': 'Toy Story Collection', ...  30000000   \n",
       "1  False                                                NaN  65000000   \n",
       "2  False  {'id': 119050, 'name': 'Grumpy Old Men Collect...         0   \n",
       "3  False                                                NaN  16000000   \n",
       "4  False  {'id': 96871, 'name': 'Father of the Bride Col...         0   \n",
       "5  False                                                NaN  60000000   \n",
       "6  False                                                NaN  58000000   \n",
       "7  False                                                NaN         0   \n",
       "8  False                                                NaN  35000000   \n",
       "9  False  {'id': 645, 'name': 'James Bond Collection', '...  58000000   \n",
       "\n",
       "                                              genres  \\\n",
       "0  [{'id': 16, 'name': 'Animation'}, {'id': 35, '...   \n",
       "1  [{'id': 12, 'name': 'Adventure'}, {'id': 14, '...   \n",
       "2  [{'id': 10749, 'name': 'Romance'}, {'id': 35, ...   \n",
       "3  [{'id': 35, 'name': 'Comedy'}, {'id': 18, 'nam...   \n",
       "4                     [{'id': 35, 'name': 'Comedy'}]   \n",
       "5  [{'id': 28, 'name': 'Action'}, {'id': 80, 'nam...   \n",
       "6  [{'id': 35, 'name': 'Comedy'}, {'id': 10749, '...   \n",
       "7  [{'id': 28, 'name': 'Action'}, {'id': 12, 'nam...   \n",
       "8  [{'id': 28, 'name': 'Action'}, {'id': 12, 'nam...   \n",
       "9  [{'id': 12, 'name': 'Adventure'}, {'id': 28, '...   \n",
       "\n",
       "                                       homepage     id    imdb_id  \\\n",
       "0          http://toystory.disney.com/toy-story    862  tt0114709   \n",
       "1                                           NaN   8844  tt0113497   \n",
       "2                                           NaN  15602  tt0113228   \n",
       "3                                           NaN  31357  tt0114885   \n",
       "4                                           NaN  11862  tt0113041   \n",
       "5                                           NaN    949  tt0113277   \n",
       "6                                           NaN  11860  tt0114319   \n",
       "7                                           NaN  45325  tt0112302   \n",
       "8                                           NaN   9091  tt0114576   \n",
       "9  http://www.mgm.com/view/movie/757/Goldeneye/    710  tt0113189   \n",
       "\n",
       "  original_language               original_title  \\\n",
       "0                en                    Toy Story   \n",
       "1                en                      Jumanji   \n",
       "2                en             Grumpier Old Men   \n",
       "3                en            Waiting to Exhale   \n",
       "4                en  Father of the Bride Part II   \n",
       "5                en                         Heat   \n",
       "6                en                      Sabrina   \n",
       "7                en                 Tom and Huck   \n",
       "8                en                 Sudden Death   \n",
       "9                en                    GoldenEye   \n",
       "\n",
       "                                            overview    ...     release_date  \\\n",
       "0  Led by Woody, Andy's toys live happily in his ...    ...       1995-10-30   \n",
       "1  When siblings Judy and Peter discover an encha...    ...       1995-12-15   \n",
       "2  A family wedding reignites the ancient feud be...    ...       1995-12-22   \n",
       "3  Cheated on, mistreated and stepped on, the wom...    ...       1995-12-22   \n",
       "4  Just when George Banks has recovered from his ...    ...       1995-02-10   \n",
       "5  Obsessive master thief, Neil McCauley leads a ...    ...       1995-12-15   \n",
       "6  An ugly duckling having undergone a remarkable...    ...       1995-12-15   \n",
       "7  A mischievous young boy, Tom Sawyer, witnesses...    ...       1995-12-22   \n",
       "8  International action superstar Jean Claude Van...    ...       1995-12-22   \n",
       "9  James Bond must unmask the mysterious head of ...    ...       1995-11-16   \n",
       "\n",
       "       revenue runtime                                   spoken_languages  \\\n",
       "0  373554033.0    81.0           [{'iso_639_1': 'en', 'name': 'English'}]   \n",
       "1  262797249.0   104.0  [{'iso_639_1': 'en', 'name': 'English'}, {'iso...   \n",
       "2          0.0   101.0           [{'iso_639_1': 'en', 'name': 'English'}]   \n",
       "3   81452156.0   127.0           [{'iso_639_1': 'en', 'name': 'English'}]   \n",
       "4   76578911.0   106.0           [{'iso_639_1': 'en', 'name': 'English'}]   \n",
       "5  187436818.0   170.0  [{'iso_639_1': 'en', 'name': 'English'}, {'iso...   \n",
       "6          0.0   127.0  [{'iso_639_1': 'fr', 'name': 'Français'}, {'is...   \n",
       "7          0.0    97.0  [{'iso_639_1': 'en', 'name': 'English'}, {'iso...   \n",
       "8   64350171.0   106.0           [{'iso_639_1': 'en', 'name': 'English'}]   \n",
       "9  352194034.0   130.0  [{'iso_639_1': 'en', 'name': 'English'}, {'iso...   \n",
       "\n",
       "     status                                            tagline  \\\n",
       "0  Released                                                NaN   \n",
       "1  Released          Roll the dice and unleash the excitement!   \n",
       "2  Released  Still Yelling. Still Fighting. Still Ready for...   \n",
       "3  Released  Friends are the people who let you be yourself...   \n",
       "4  Released  Just When His World Is Back To Normal... He's ...   \n",
       "5  Released                           A Los Angeles Crime Saga   \n",
       "6  Released  You are cordially invited to the most surprisi...   \n",
       "7  Released                             The Original Bad Boys.   \n",
       "8  Released                         Terror goes into overtime.   \n",
       "9  Released               No limits. No fears. No substitutes.   \n",
       "\n",
       "                         title  video vote_average vote_count  \n",
       "0                    Toy Story  False          7.7     5415.0  \n",
       "1                      Jumanji  False          6.9     2413.0  \n",
       "2             Grumpier Old Men  False          6.5       92.0  \n",
       "3            Waiting to Exhale  False          6.1       34.0  \n",
       "4  Father of the Bride Part II  False          5.7      173.0  \n",
       "5                         Heat  False          7.7     1886.0  \n",
       "6                      Sabrina  False          6.2      141.0  \n",
       "7                 Tom and Huck  False          5.4       45.0  \n",
       "8                 Sudden Death  False          5.5      174.0  \n",
       "9                    GoldenEye  False          6.6     1194.0  \n",
       "\n",
       "[10 rows x 24 columns]"
      ]
     },
     "execution_count": 3,
     "metadata": {},
     "output_type": "execute_result"
    }
   ],
   "source": [
    "# read in the table of movie information \n",
    "movie = pd.read_csv(\"/Users/wenjingyang/Documents/Winter 2018/MSiA423 - Analytics Value Chain/msia423_webapp/data/movies_metadata.csv\")\n",
    "movie.head(10)"
   ]
  },
  {
   "cell_type": "code",
   "execution_count": 35,
   "metadata": {},
   "outputs": [
    {
     "data": {
      "text/plain": [
       "level_0                      0\n",
       "index                        0\n",
       "adult                        0\n",
       "belongs_to_collection    40972\n",
       "budget                       0\n",
       "genres                       0\n",
       "homepage                 37684\n",
       "id                           0\n",
       "imdb_id                     17\n",
       "original_language           11\n",
       "original_title               0\n",
       "overview                   954\n",
       "popularity                   5\n",
       "poster_path                386\n",
       "production_companies         3\n",
       "production_countries         3\n",
       "release_date                87\n",
       "revenue                      6\n",
       "runtime                    263\n",
       "spoken_languages             6\n",
       "status                      87\n",
       "tagline                      0\n",
       "title                        6\n",
       "video                        6\n",
       "vote_average                 6\n",
       "vote_count                   6\n",
       "description                  0\n",
       "description_genre            0\n",
       "dtype: int64"
      ]
     },
     "execution_count": 35,
     "metadata": {},
     "output_type": "execute_result"
    }
   ],
   "source": [
    "# check NAs in all columns\n",
    "movie.isnull().sum() "
   ]
  },
  {
   "cell_type": "code",
   "execution_count": 36,
   "metadata": {},
   "outputs": [
    {
     "data": {
      "text/plain": [
       "0"
      ]
     },
     "execution_count": 36,
     "metadata": {},
     "output_type": "execute_result"
    }
   ],
   "source": [
    "# check NAs in id column\n",
    "movie['id'].isnull().sum()\n"
   ]
  },
  {
   "cell_type": "code",
   "execution_count": 37,
   "metadata": {},
   "outputs": [
    {
     "data": {
      "text/plain": [
       "6"
      ]
     },
     "execution_count": 37,
     "metadata": {},
     "output_type": "execute_result"
    }
   ],
   "source": [
    "# check NAs in title column\n",
    "movie['title'].isnull().sum()"
   ]
  },
  {
   "cell_type": "code",
   "execution_count": 38,
   "metadata": {},
   "outputs": [
    {
     "data": {
      "text/plain": [
       "0"
      ]
     },
     "execution_count": 38,
     "metadata": {},
     "output_type": "execute_result"
    }
   ],
   "source": [
    "# check NAs in genres column\n",
    "movie['genres'].isnull().sum()"
   ]
  },
  {
   "cell_type": "code",
   "execution_count": 39,
   "metadata": {},
   "outputs": [
    {
     "data": {
      "text/html": [
       "<div>\n",
       "<style scoped>\n",
       "    .dataframe tbody tr th:only-of-type {\n",
       "        vertical-align: middle;\n",
       "    }\n",
       "\n",
       "    .dataframe tbody tr th {\n",
       "        vertical-align: top;\n",
       "    }\n",
       "\n",
       "    .dataframe thead th {\n",
       "        text-align: right;\n",
       "    }\n",
       "</style>\n",
       "<table border=\"1\" class=\"dataframe\">\n",
       "  <thead>\n",
       "    <tr style=\"text-align: right;\">\n",
       "      <th></th>\n",
       "      <th>id</th>\n",
       "    </tr>\n",
       "  </thead>\n",
       "  <tbody>\n",
       "    <tr>\n",
       "      <th>19729</th>\n",
       "      <td>82663</td>\n",
       "    </tr>\n",
       "    <tr>\n",
       "      <th>19730</th>\n",
       "      <td>1997-08-20</td>\n",
       "    </tr>\n",
       "    <tr>\n",
       "      <th>29502</th>\n",
       "      <td>122662</td>\n",
       "    </tr>\n",
       "    <tr>\n",
       "      <th>29503</th>\n",
       "      <td>2012-09-29</td>\n",
       "    </tr>\n",
       "    <tr>\n",
       "      <th>35586</th>\n",
       "      <td>249260</td>\n",
       "    </tr>\n",
       "    <tr>\n",
       "      <th>35587</th>\n",
       "      <td>2014-01-01</td>\n",
       "    </tr>\n",
       "  </tbody>\n",
       "</table>\n",
       "</div>"
      ],
      "text/plain": [
       "               id\n",
       "19729       82663\n",
       "19730  1997-08-20\n",
       "29502      122662\n",
       "29503  2012-09-29\n",
       "35586      249260\n",
       "35587  2014-01-01"
      ]
     },
     "execution_count": 39,
     "metadata": {},
     "output_type": "execute_result"
    }
   ],
   "source": [
    "# check the 6 rows of NA in titles\n",
    "movie['title'].head(20)\n",
    "movie[movie['title'].isnull()][['id']]"
   ]
  },
  {
   "cell_type": "code",
   "execution_count": 40,
   "metadata": {},
   "outputs": [
    {
     "data": {
      "text/plain": [
       "0           862\n",
       "1          8844\n",
       "2         15602\n",
       "3         31357\n",
       "4         11862\n",
       "5           949\n",
       "6         11860\n",
       "7         45325\n",
       "8          9091\n",
       "9           710\n",
       "10         9087\n",
       "11        12110\n",
       "12        21032\n",
       "13        10858\n",
       "14         1408\n",
       "15          524\n",
       "16         4584\n",
       "17            5\n",
       "18         9273\n",
       "19        11517\n",
       "20         8012\n",
       "21         1710\n",
       "22         9691\n",
       "23        12665\n",
       "24          451\n",
       "25        16420\n",
       "26         9263\n",
       "27        17015\n",
       "28          902\n",
       "29        37557\n",
       "          ...  \n",
       "45436     45527\n",
       "45437    455661\n",
       "45438    327237\n",
       "45439     84710\n",
       "45440     39562\n",
       "45441     14008\n",
       "45442     44330\n",
       "45443     49279\n",
       "45444     44333\n",
       "45445     49277\n",
       "45446     49271\n",
       "45447     44324\n",
       "45448    122036\n",
       "45449     14885\n",
       "45450     49280\n",
       "45451    106807\n",
       "45452    276895\n",
       "45453    404604\n",
       "45454    420346\n",
       "45455     67179\n",
       "45456     84419\n",
       "45457    390959\n",
       "45458    289923\n",
       "45459    222848\n",
       "45460     30840\n",
       "45461    439050\n",
       "45462    111109\n",
       "45463     67758\n",
       "45464    227506\n",
       "45465    461257\n",
       "Name: id, Length: 45463, dtype: int64"
      ]
     },
     "execution_count": 40,
     "metadata": {},
     "output_type": "execute_result"
    }
   ],
   "source": [
    "# i found a method to check the abnormality in the id column. \n",
    "# Use the function pd.to_numeric() to check if there are only 3 rows with strange id\n",
    "movie = movie.drop(movie.index[19730])\n",
    "movie = movie.drop(movie.index[29502])\n",
    "movie = movie.drop(movie.index[35585])\n",
    "pd.to_numeric(movie['id'])\n",
    "\n",
    "# no error message --> id column is fixed"
   ]
  },
  {
   "cell_type": "code",
   "execution_count": 41,
   "metadata": {},
   "outputs": [
    {
     "data": {
      "text/html": [
       "<div>\n",
       "<style scoped>\n",
       "    .dataframe tbody tr th:only-of-type {\n",
       "        vertical-align: middle;\n",
       "    }\n",
       "\n",
       "    .dataframe tbody tr th {\n",
       "        vertical-align: top;\n",
       "    }\n",
       "\n",
       "    .dataframe thead th {\n",
       "        text-align: right;\n",
       "    }\n",
       "</style>\n",
       "<table border=\"1\" class=\"dataframe\">\n",
       "  <thead>\n",
       "    <tr style=\"text-align: right;\">\n",
       "      <th></th>\n",
       "      <th>id</th>\n",
       "    </tr>\n",
       "  </thead>\n",
       "  <tbody>\n",
       "    <tr>\n",
       "      <th>19729</th>\n",
       "      <td>82663</td>\n",
       "    </tr>\n",
       "    <tr>\n",
       "      <th>29502</th>\n",
       "      <td>122662</td>\n",
       "    </tr>\n",
       "    <tr>\n",
       "      <th>35586</th>\n",
       "      <td>249260</td>\n",
       "    </tr>\n",
       "  </tbody>\n",
       "</table>\n",
       "</div>"
      ],
      "text/plain": [
       "           id\n",
       "19729   82663\n",
       "29502  122662\n",
       "35586  249260"
      ]
     },
     "execution_count": 41,
     "metadata": {},
     "output_type": "execute_result"
    }
   ],
   "source": [
    "# continue checking NAs in titles\n",
    "movie[movie['title'].isnull()][['id']]"
   ]
  },
  {
   "cell_type": "code",
   "execution_count": 42,
   "metadata": {},
   "outputs": [
    {
     "data": {
      "text/html": [
       "<div>\n",
       "<style scoped>\n",
       "    .dataframe tbody tr th:only-of-type {\n",
       "        vertical-align: middle;\n",
       "    }\n",
       "\n",
       "    .dataframe tbody tr th {\n",
       "        vertical-align: top;\n",
       "    }\n",
       "\n",
       "    .dataframe thead th {\n",
       "        text-align: right;\n",
       "    }\n",
       "</style>\n",
       "<table border=\"1\" class=\"dataframe\">\n",
       "  <thead>\n",
       "    <tr style=\"text-align: right;\">\n",
       "      <th></th>\n",
       "      <th>id</th>\n",
       "    </tr>\n",
       "  </thead>\n",
       "  <tbody>\n",
       "  </tbody>\n",
       "</table>\n",
       "</div>"
      ],
      "text/plain": [
       "Empty DataFrame\n",
       "Columns: [id]\n",
       "Index: []"
      ]
     },
     "execution_count": 42,
     "metadata": {},
     "output_type": "execute_result"
    }
   ],
   "source": [
    "# drop the rows with NA in titles\n",
    "movie = movie[movie.title.notnull()]\n",
    "movie[movie['title'].isnull()][['id']]"
   ]
  },
  {
   "cell_type": "code",
   "execution_count": 43,
   "metadata": {},
   "outputs": [
    {
     "data": {
      "text/plain": [
       "0           862\n",
       "1          8844\n",
       "2         15602\n",
       "3         31357\n",
       "4         11862\n",
       "5           949\n",
       "6         11860\n",
       "7         45325\n",
       "8          9091\n",
       "9           710\n",
       "10         9087\n",
       "11        12110\n",
       "12        21032\n",
       "13        10858\n",
       "14         1408\n",
       "15          524\n",
       "16         4584\n",
       "17            5\n",
       "18         9273\n",
       "19        11517\n",
       "20         8012\n",
       "21         1710\n",
       "22         9691\n",
       "23        12665\n",
       "24          451\n",
       "25        16420\n",
       "26         9263\n",
       "27        17015\n",
       "28          902\n",
       "29        37557\n",
       "          ...  \n",
       "45436     45527\n",
       "45437    455661\n",
       "45438    327237\n",
       "45439     84710\n",
       "45440     39562\n",
       "45441     14008\n",
       "45442     44330\n",
       "45443     49279\n",
       "45444     44333\n",
       "45445     49277\n",
       "45446     49271\n",
       "45447     44324\n",
       "45448    122036\n",
       "45449     14885\n",
       "45450     49280\n",
       "45451    106807\n",
       "45452    276895\n",
       "45453    404604\n",
       "45454    420346\n",
       "45455     67179\n",
       "45456     84419\n",
       "45457    390959\n",
       "45458    289923\n",
       "45459    222848\n",
       "45460     30840\n",
       "45461    439050\n",
       "45462    111109\n",
       "45463     67758\n",
       "45464    227506\n",
       "45465    461257\n",
       "Name: id, Length: 45460, dtype: int64"
      ]
     },
     "execution_count": 43,
     "metadata": {},
     "output_type": "execute_result"
    }
   ],
   "source": [
    "# check the data type \n",
    "movie['title']\n",
    "movie['id'] = pd.to_numeric(movie['id'])\n",
    "movie['id']"
   ]
  },
  {
   "cell_type": "code",
   "execution_count": 59,
   "metadata": {},
   "outputs": [
    {
     "data": {
      "text/plain": [
       "0        [{'id': 16, 'name': 'Animation'}, {'id': 35, '...\n",
       "1        [{'id': 12, 'name': 'Adventure'}, {'id': 14, '...\n",
       "2        [{'id': 10749, 'name': 'Romance'}, {'id': 35, ...\n",
       "3        [{'id': 35, 'name': 'Comedy'}, {'id': 18, 'nam...\n",
       "4                           [{'id': 35, 'name': 'Comedy'}]\n",
       "5        [{'id': 28, 'name': 'Action'}, {'id': 80, 'nam...\n",
       "6        [{'id': 35, 'name': 'Comedy'}, {'id': 10749, '...\n",
       "7        [{'id': 28, 'name': 'Action'}, {'id': 12, 'nam...\n",
       "8        [{'id': 28, 'name': 'Action'}, {'id': 12, 'nam...\n",
       "9        [{'id': 12, 'name': 'Adventure'}, {'id': 28, '...\n",
       "10       [{'id': 35, 'name': 'Comedy'}, {'id': 18, 'nam...\n",
       "11       [{'id': 35, 'name': 'Comedy'}, {'id': 27, 'nam...\n",
       "12       [{'id': 10751, 'name': 'Family'}, {'id': 16, '...\n",
       "13       [{'id': 36, 'name': 'History'}, {'id': 18, 'na...\n",
       "14       [{'id': 28, 'name': 'Action'}, {'id': 12, 'nam...\n",
       "15       [{'id': 18, 'name': 'Drama'}, {'id': 80, 'name...\n",
       "16       [{'id': 18, 'name': 'Drama'}, {'id': 10749, 'n...\n",
       "17       [{'id': 80, 'name': 'Crime'}, {'id': 35, 'name...\n",
       "18       [{'id': 80, 'name': 'Crime'}, {'id': 35, 'name...\n",
       "19       [{'id': 28, 'name': 'Action'}, {'id': 35, 'nam...\n",
       "20       [{'id': 35, 'name': 'Comedy'}, {'id': 53, 'nam...\n",
       "21       [{'id': 18, 'name': 'Drama'}, {'id': 53, 'name...\n",
       "22       [{'id': 28, 'name': 'Action'}, {'id': 12, 'nam...\n",
       "23       [{'id': 18, 'name': 'Drama'}, {'id': 14, 'name...\n",
       "24       [{'id': 18, 'name': 'Drama'}, {'id': 10749, 'n...\n",
       "25                           [{'id': 18, 'name': 'Drama'}]\n",
       "26       [{'id': 35, 'name': 'Comedy'}, {'id': 18, 'nam...\n",
       "27       [{'id': 18, 'name': 'Drama'}, {'id': 10749, 'n...\n",
       "28       [{'id': 14, 'name': 'Fantasy'}, {'id': 878, 'n...\n",
       "29       [{'id': 18, 'name': 'Drama'}, {'id': 80, 'name...\n",
       "                               ...                        \n",
       "45436    [{'id': 28, 'name': 'Action'}, {'id': 9648, 'n...\n",
       "45437    [{'id': 10751, 'name': 'Family'}, {'id': 16, '...\n",
       "45438                        [{'id': 18, 'name': 'Drama'}]\n",
       "45439    [{'id': 18, 'name': 'Drama'}, {'id': 14, 'name...\n",
       "45440    [{'id': 18, 'name': 'Drama'}, {'id': 10751, 'n...\n",
       "45441                       [{'id': 35, 'name': 'Comedy'}]\n",
       "45442                                                   []\n",
       "45443    [{'id': 35, 'name': 'Comedy'}, {'id': 14, 'nam...\n",
       "45444                      [{'id': 14, 'name': 'Fantasy'}]\n",
       "45445    [{'id': 14, 'name': 'Fantasy'}, {'id': 35, 'na...\n",
       "45446    [{'id': 14, 'name': 'Fantasy'}, {'id': 35, 'na...\n",
       "45447                                                   []\n",
       "45448                                                   []\n",
       "45449    [{'id': 16, 'name': 'Animation'}, {'id': 10751...\n",
       "45450    [{'id': 14, 'name': 'Fantasy'}, {'id': 28, 'na...\n",
       "45451    [{'id': 35, 'name': 'Comedy'}, {'id': 14, 'nam...\n",
       "45452                  [{'id': 99, 'name': 'Documentary'}]\n",
       "45453    [{'id': 80, 'name': 'Crime'}, {'id': 18, 'name...\n",
       "45454    [{'id': 35, 'name': 'Comedy'}, {'id': 18, 'nam...\n",
       "45455                                                   []\n",
       "45456    [{'id': 27, 'name': 'Horror'}, {'id': 9648, 'n...\n",
       "45457    [{'id': 9648, 'name': 'Mystery'}, {'id': 27, '...\n",
       "45458                       [{'id': 27, 'name': 'Horror'}]\n",
       "45459             [{'id': 878, 'name': 'Science Fiction'}]\n",
       "45460    [{'id': 18, 'name': 'Drama'}, {'id': 28, 'name...\n",
       "45461    [{'id': 18, 'name': 'Drama'}, {'id': 10751, 'n...\n",
       "45462                        [{'id': 18, 'name': 'Drama'}]\n",
       "45463    [{'id': 28, 'name': 'Action'}, {'id': 18, 'nam...\n",
       "45464                                                   []\n",
       "45465                                                   []\n",
       "Name: genres, Length: 45460, dtype: object"
      ]
     },
     "execution_count": 59,
     "metadata": {},
     "output_type": "execute_result"
    }
   ],
   "source": [
    "# check the datatype of genre\n",
    "\n",
    "movie['genres'] \n",
    "# let's deal with this column later "
   ]
  },
  {
   "cell_type": "code",
   "execution_count": 5,
   "metadata": {
    "collapsed": true
   },
   "outputs": [],
   "source": [
    "# read in the table of ratings\n",
    "rating = pd.read_csv(\"/Users/wenjingyang/Documents/Winter 2018/MSiA423 - Analytics Value Chain/msia423_webapp/data/ratings.csv\")"
   ]
  },
  {
   "cell_type": "code",
   "execution_count": 6,
   "metadata": {},
   "outputs": [
    {
     "data": {
      "text/plain": [
       "userId       0\n",
       "movieId      0\n",
       "rating       0\n",
       "timestamp    0\n",
       "dtype: int64"
      ]
     },
     "execution_count": 6,
     "metadata": {},
     "output_type": "execute_result"
    }
   ],
   "source": [
    "# check NAs in columns\n",
    "rating.isnull().sum()\n",
    "\n",
    "# no NAs in the dataset"
   ]
  },
  {
   "cell_type": "code",
   "execution_count": 62,
   "metadata": {},
   "outputs": [
    {
     "data": {
      "text/plain": [
       "0           1.0\n",
       "1           4.5\n",
       "2           5.0\n",
       "3           5.0\n",
       "4           5.0\n",
       "5           4.0\n",
       "6           4.5\n",
       "7           5.0\n",
       "8           4.0\n",
       "9           4.0\n",
       "10          5.0\n",
       "11          5.0\n",
       "12          4.0\n",
       "13          3.5\n",
       "14          4.0\n",
       "15          5.0\n",
       "16          5.0\n",
       "17          5.0\n",
       "18          5.0\n",
       "19          5.0\n",
       "20          2.5\n",
       "21          5.0\n",
       "22          5.0\n",
       "23          5.0\n",
       "24          0.5\n",
       "25          4.0\n",
       "26          5.0\n",
       "27          3.0\n",
       "28          3.0\n",
       "29          2.0\n",
       "           ... \n",
       "26024259    3.5\n",
       "26024260    5.0\n",
       "26024261    4.0\n",
       "26024262    3.0\n",
       "26024263    3.5\n",
       "26024264    4.5\n",
       "26024265    4.0\n",
       "26024266    5.0\n",
       "26024267    4.5\n",
       "26024268    5.0\n",
       "26024269    5.0\n",
       "26024270    4.0\n",
       "26024271    4.0\n",
       "26024272    5.0\n",
       "26024273    2.5\n",
       "26024274    4.5\n",
       "26024275    4.5\n",
       "26024276    3.5\n",
       "26024277    3.0\n",
       "26024278    4.0\n",
       "26024279    4.5\n",
       "26024280    4.0\n",
       "26024281    5.0\n",
       "26024282    3.5\n",
       "26024283    4.5\n",
       "26024284    5.0\n",
       "26024285    5.0\n",
       "26024286    4.5\n",
       "26024287    4.5\n",
       "26024288    2.0\n",
       "Name: rating, Length: 26024289, dtype: float64"
      ]
     },
     "execution_count": 62,
     "metadata": {},
     "output_type": "execute_result"
    }
   ],
   "source": [
    "# check data types\n",
    "rating['userId']\n",
    "rating['movieId']\n",
    "rating['rating']"
   ]
  },
  {
   "cell_type": "code",
   "execution_count": 63,
   "metadata": {},
   "outputs": [
    {
     "data": {
      "text/plain": [
       "(array([  404897.,   843310.,   403607.,  1762440.,  1255358.,  5256722.,\n",
       "         3116213.,  6998802.,  2170441.,  3812499.]),\n",
       " array([ 0.5 ,  0.95,  1.4 ,  1.85,  2.3 ,  2.75,  3.2 ,  3.65,  4.1 ,\n",
       "         4.55,  5.  ]),\n",
       " <a list of 10 Patch objects>)"
      ]
     },
     "execution_count": 63,
     "metadata": {},
     "output_type": "execute_result"
    },
    {
     "data": {
      "image/png": "[encoded data removed]",
      "text/plain": [
       "<matplotlib.figure.Figure at 0x13a3d7c18>"
      ]
     },
     "metadata": {},
     "output_type": "display_data"
    }
   ],
   "source": [
    "# plot the rating\n",
    "plt.hist(rating['rating'])"
   ]
  },
  {
   "cell_type": "code",
   "execution_count": 64,
   "metadata": {},
   "outputs": [
    {
     "data": {
      "text/html": [
       "<div>\n",
       "<style>\n",
       "    .dataframe thead tr:only-child th {\n",
       "        text-align: right;\n",
       "    }\n",
       "\n",
       "    .dataframe thead th {\n",
       "        text-align: left;\n",
       "    }\n",
       "\n",
       "    .dataframe tbody tr th {\n",
       "        vertical-align: top;\n",
       "    }\n",
       "</style>\n",
       "<table border=\"1\" class=\"dataframe\">\n",
       "  <thead>\n",
       "    <tr style=\"text-align: right;\">\n",
       "      <th></th>\n",
       "      <th>userId</th>\n",
       "      <th>movie_sum</th>\n",
       "    </tr>\n",
       "  </thead>\n",
       "  <tbody>\n",
       "    <tr>\n",
       "      <th>0</th>\n",
       "      <td>1</td>\n",
       "      <td>27</td>\n",
       "    </tr>\n",
       "    <tr>\n",
       "      <th>1</th>\n",
       "      <td>2</td>\n",
       "      <td>22</td>\n",
       "    </tr>\n",
       "    <tr>\n",
       "      <th>2</th>\n",
       "      <td>3</td>\n",
       "      <td>10</td>\n",
       "    </tr>\n",
       "    <tr>\n",
       "      <th>3</th>\n",
       "      <td>4</td>\n",
       "      <td>62</td>\n",
       "    </tr>\n",
       "    <tr>\n",
       "      <th>4</th>\n",
       "      <td>5</td>\n",
       "      <td>26</td>\n",
       "    </tr>\n",
       "    <tr>\n",
       "      <th>5</th>\n",
       "      <td>6</td>\n",
       "      <td>4</td>\n",
       "    </tr>\n",
       "    <tr>\n",
       "      <th>6</th>\n",
       "      <td>7</td>\n",
       "      <td>53</td>\n",
       "    </tr>\n",
       "    <tr>\n",
       "      <th>7</th>\n",
       "      <td>8</td>\n",
       "      <td>113</td>\n",
       "    </tr>\n",
       "    <tr>\n",
       "      <th>8</th>\n",
       "      <td>9</td>\n",
       "      <td>84</td>\n",
       "    </tr>\n",
       "    <tr>\n",
       "      <th>9</th>\n",
       "      <td>10</td>\n",
       "      <td>13</td>\n",
       "    </tr>\n",
       "  </tbody>\n",
       "</table>\n",
       "</div>"
      ],
      "text/plain": [
       "   userId  movie_sum\n",
       "0       1         27\n",
       "1       2         22\n",
       "2       3         10\n",
       "3       4         62\n",
       "4       5         26\n",
       "5       6          4\n",
       "6       7         53\n",
       "7       8        113\n",
       "8       9         84\n",
       "9      10         13"
      ]
     },
     "execution_count": 64,
     "metadata": {},
     "output_type": "execute_result"
    }
   ],
   "source": [
    "# calculate the number of movie ratings for users\n",
    "movie_1_user = rating.groupby('userId',as_index=False).agg({'movieId':[np.size]})\n",
    "movie_1_user.columns = ['userId','movie_sum']\n",
    "movie_1_user.head(10)"
   ]
  },
  {
   "cell_type": "code",
   "execution_count": 65,
   "metadata": {},
   "outputs": [
    {
     "data": {
      "text/plain": [
       "0          NaN\n",
       "1     5.250000\n",
       "2     7.300000\n",
       "3     0.500000\n",
       "4     8.346154\n",
       "5    27.750000\n",
       "6     0.283019\n",
       "7     1.579646\n",
       "8     4.023810\n",
       "9    24.884615\n",
       "dtype: float64"
      ]
     },
     "execution_count": 65,
     "metadata": {},
     "output_type": "execute_result"
    }
   ],
   "source": [
    "# calculate the avg rating of each person --> detect the personalized factor (which we can use as weight in the following calculations)\n",
    "user_avg_rating = rating.groupby('userId').agg({'rating':[np.sum]})\n",
    "user_avg_rating.columns = ['rating_sum']\n",
    "user_avg_rating = user_avg_rating['rating_sum']/movie_1_user['movie_sum']\n",
    "user_avg_rating.columns = ['rating_avg']\n",
    "user_avg_rating.head(10)\n"
   ]
  },
  {
   "cell_type": "code",
   "execution_count": 66,
   "metadata": {},
   "outputs": [
    {
     "data": {
      "text/html": [
       "<div>\n",
       "<style>\n",
       "    .dataframe thead tr:only-child th {\n",
       "        text-align: right;\n",
       "    }\n",
       "\n",
       "    .dataframe thead th {\n",
       "        text-align: left;\n",
       "    }\n",
       "\n",
       "    .dataframe tbody tr th {\n",
       "        vertical-align: top;\n",
       "    }\n",
       "</style>\n",
       "<table border=\"1\" class=\"dataframe\">\n",
       "  <thead>\n",
       "    <tr style=\"text-align: right;\">\n",
       "      <th></th>\n",
       "      <th>rating_times</th>\n",
       "    </tr>\n",
       "    <tr>\n",
       "      <th>movieId</th>\n",
       "      <th></th>\n",
       "    </tr>\n",
       "  </thead>\n",
       "  <tbody>\n",
       "    <tr>\n",
       "      <th>356</th>\n",
       "      <td>91921.0</td>\n",
       "    </tr>\n",
       "    <tr>\n",
       "      <th>318</th>\n",
       "      <td>91082.0</td>\n",
       "    </tr>\n",
       "    <tr>\n",
       "      <th>296</th>\n",
       "      <td>87901.0</td>\n",
       "    </tr>\n",
       "    <tr>\n",
       "      <th>593</th>\n",
       "      <td>84078.0</td>\n",
       "    </tr>\n",
       "    <tr>\n",
       "      <th>2571</th>\n",
       "      <td>77960.0</td>\n",
       "    </tr>\n",
       "    <tr>\n",
       "      <th>260</th>\n",
       "      <td>77045.0</td>\n",
       "    </tr>\n",
       "    <tr>\n",
       "      <th>480</th>\n",
       "      <td>74355.0</td>\n",
       "    </tr>\n",
       "    <tr>\n",
       "      <th>527</th>\n",
       "      <td>67662.0</td>\n",
       "    </tr>\n",
       "    <tr>\n",
       "      <th>110</th>\n",
       "      <td>66512.0</td>\n",
       "    </tr>\n",
       "    <tr>\n",
       "      <th>1</th>\n",
       "      <td>66008.0</td>\n",
       "    </tr>\n",
       "  </tbody>\n",
       "</table>\n",
       "</div>"
      ],
      "text/plain": [
       "         rating_times\n",
       "movieId              \n",
       "356           91921.0\n",
       "318           91082.0\n",
       "296           87901.0\n",
       "593           84078.0\n",
       "2571          77960.0\n",
       "260           77045.0\n",
       "480           74355.0\n",
       "527           67662.0\n",
       "110           66512.0\n",
       "1             66008.0"
      ]
     },
     "execution_count": 66,
     "metadata": {},
     "output_type": "execute_result"
    }
   ],
   "source": [
    "# find the top10 most rated movies (the times of being rated)\n",
    "rating_1_movie = rating.groupby('movieId').agg({'rating':[np.size]})\n",
    "rating_1_movie.columns = ['rating_times']\n",
    "rating_1_movie.sort_values(by='rating_times',ascending=False).head(10)"
   ]
  },
  {
   "cell_type": "code",
   "execution_count": 67,
   "metadata": {
    "collapsed": true
   },
   "outputs": [],
   "source": [
    "# find the top10 highest rated movies (movies with highest average ratings)\n",
    "movie_avg_rating = rating.groupby('movieId').agg({'rating':[np.sum]})\n",
    "movie_avg_rating.head(10)\n",
    "movie_avg_rating.columns = ['rating_sum'] \n",
    "movie_avg_rating = movie_avg_rating['rating_sum']/rating_1_movie['rating_times']\n",
    "movie_avg_rating.columns = ['avg_rating']"
   ]
  },
  {
   "cell_type": "code",
   "execution_count": 68,
   "metadata": {
    "collapsed": true
   },
   "outputs": [],
   "source": [
    "# Next time, we need to merge the movie table and rating table together to have a better\n",
    "# idea of the distributions of each movie titles. Then, with the information collected this week\n",
    "# and other knowledge about recommender systems i will learn next week, i should build the initial\n",
    "# recommender model for the data on my local machine."
   ]
  },
  {
   "cell_type": "markdown",
   "metadata": {},
   "source": [
    "### I first want to build a recommender system based on movie descriptions. "
   ]
  },
  {
   "cell_type": "code",
   "execution_count": 4,
   "metadata": {},
   "outputs": [
    {
     "data": {
      "text/html": [
       "<div>\n",
       "<style scoped>\n",
       "    .dataframe tbody tr th:only-of-type {\n",
       "        vertical-align: middle;\n",
       "    }\n",
       "\n",
       "    .dataframe tbody tr th {\n",
       "        vertical-align: top;\n",
       "    }\n",
       "\n",
       "    .dataframe thead th {\n",
       "        text-align: right;\n",
       "    }\n",
       "</style>\n",
       "<table border=\"1\" class=\"dataframe\">\n",
       "  <thead>\n",
       "    <tr style=\"text-align: right;\">\n",
       "      <th></th>\n",
       "      <th>adult</th>\n",
       "      <th>belongs_to_collection</th>\n",
       "      <th>budget</th>\n",
       "      <th>genres</th>\n",
       "      <th>homepage</th>\n",
       "      <th>id</th>\n",
       "      <th>imdb_id</th>\n",
       "      <th>original_language</th>\n",
       "      <th>original_title</th>\n",
       "      <th>overview</th>\n",
       "      <th>...</th>\n",
       "      <th>release_date</th>\n",
       "      <th>revenue</th>\n",
       "      <th>runtime</th>\n",
       "      <th>spoken_languages</th>\n",
       "      <th>status</th>\n",
       "      <th>tagline</th>\n",
       "      <th>title</th>\n",
       "      <th>video</th>\n",
       "      <th>vote_average</th>\n",
       "      <th>vote_count</th>\n",
       "    </tr>\n",
       "  </thead>\n",
       "  <tbody>\n",
       "    <tr>\n",
       "      <th>0</th>\n",
       "      <td>False</td>\n",
       "      <td>{'id': 10194, 'name': 'Toy Story Collection', ...</td>\n",
       "      <td>30000000</td>\n",
       "      <td>[Animation, Comedy, Family]</td>\n",
       "      <td>http://toystory.disney.com/toy-story</td>\n",
       "      <td>862</td>\n",
       "      <td>tt0114709</td>\n",
       "      <td>en</td>\n",
       "      <td>Toy Story</td>\n",
       "      <td>Led by Woody, Andy's toys live happily in his ...</td>\n",
       "      <td>...</td>\n",
       "      <td>1995-10-30</td>\n",
       "      <td>373554033.0</td>\n",
       "      <td>81.0</td>\n",
       "      <td>[{'iso_639_1': 'en', 'name': 'English'}]</td>\n",
       "      <td>Released</td>\n",
       "      <td>NaN</td>\n",
       "      <td>Toy Story</td>\n",
       "      <td>False</td>\n",
       "      <td>7.7</td>\n",
       "      <td>5415.0</td>\n",
       "    </tr>\n",
       "    <tr>\n",
       "      <th>1</th>\n",
       "      <td>False</td>\n",
       "      <td>NaN</td>\n",
       "      <td>65000000</td>\n",
       "      <td>[Adventure, Fantasy, Family]</td>\n",
       "      <td>NaN</td>\n",
       "      <td>8844</td>\n",
       "      <td>tt0113497</td>\n",
       "      <td>en</td>\n",
       "      <td>Jumanji</td>\n",
       "      <td>When siblings Judy and Peter discover an encha...</td>\n",
       "      <td>...</td>\n",
       "      <td>1995-12-15</td>\n",
       "      <td>262797249.0</td>\n",
       "      <td>104.0</td>\n",
       "      <td>[{'iso_639_1': 'en', 'name': 'English'}, {'iso...</td>\n",
       "      <td>Released</td>\n",
       "      <td>Roll the dice and unleash the excitement!</td>\n",
       "      <td>Jumanji</td>\n",
       "      <td>False</td>\n",
       "      <td>6.9</td>\n",
       "      <td>2413.0</td>\n",
       "    </tr>\n",
       "    <tr>\n",
       "      <th>2</th>\n",
       "      <td>False</td>\n",
       "      <td>{'id': 119050, 'name': 'Grumpy Old Men Collect...</td>\n",
       "      <td>0</td>\n",
       "      <td>[Romance, Comedy]</td>\n",
       "      <td>NaN</td>\n",
       "      <td>15602</td>\n",
       "      <td>tt0113228</td>\n",
       "      <td>en</td>\n",
       "      <td>Grumpier Old Men</td>\n",
       "      <td>A family wedding reignites the ancient feud be...</td>\n",
       "      <td>...</td>\n",
       "      <td>1995-12-22</td>\n",
       "      <td>0.0</td>\n",
       "      <td>101.0</td>\n",
       "      <td>[{'iso_639_1': 'en', 'name': 'English'}]</td>\n",
       "      <td>Released</td>\n",
       "      <td>Still Yelling. Still Fighting. Still Ready for...</td>\n",
       "      <td>Grumpier Old Men</td>\n",
       "      <td>False</td>\n",
       "      <td>6.5</td>\n",
       "      <td>92.0</td>\n",
       "    </tr>\n",
       "    <tr>\n",
       "      <th>3</th>\n",
       "      <td>False</td>\n",
       "      <td>NaN</td>\n",
       "      <td>16000000</td>\n",
       "      <td>[Comedy, Drama, Romance]</td>\n",
       "      <td>NaN</td>\n",
       "      <td>31357</td>\n",
       "      <td>tt0114885</td>\n",
       "      <td>en</td>\n",
       "      <td>Waiting to Exhale</td>\n",
       "      <td>Cheated on, mistreated and stepped on, the wom...</td>\n",
       "      <td>...</td>\n",
       "      <td>1995-12-22</td>\n",
       "      <td>81452156.0</td>\n",
       "      <td>127.0</td>\n",
       "      <td>[{'iso_639_1': 'en', 'name': 'English'}]</td>\n",
       "      <td>Released</td>\n",
       "      <td>Friends are the people who let you be yourself...</td>\n",
       "      <td>Waiting to Exhale</td>\n",
       "      <td>False</td>\n",
       "      <td>6.1</td>\n",
       "      <td>34.0</td>\n",
       "    </tr>\n",
       "    <tr>\n",
       "      <th>4</th>\n",
       "      <td>False</td>\n",
       "      <td>{'id': 96871, 'name': 'Father of the Bride Col...</td>\n",
       "      <td>0</td>\n",
       "      <td>[Comedy]</td>\n",
       "      <td>NaN</td>\n",
       "      <td>11862</td>\n",
       "      <td>tt0113041</td>\n",
       "      <td>en</td>\n",
       "      <td>Father of the Bride Part II</td>\n",
       "      <td>Just when George Banks has recovered from his ...</td>\n",
       "      <td>...</td>\n",
       "      <td>1995-02-10</td>\n",
       "      <td>76578911.0</td>\n",
       "      <td>106.0</td>\n",
       "      <td>[{'iso_639_1': 'en', 'name': 'English'}]</td>\n",
       "      <td>Released</td>\n",
       "      <td>Just When His World Is Back To Normal... He's ...</td>\n",
       "      <td>Father of the Bride Part II</td>\n",
       "      <td>False</td>\n",
       "      <td>5.7</td>\n",
       "      <td>173.0</td>\n",
       "    </tr>\n",
       "    <tr>\n",
       "      <th>5</th>\n",
       "      <td>False</td>\n",
       "      <td>NaN</td>\n",
       "      <td>60000000</td>\n",
       "      <td>[Action, Crime, Drama, Thriller]</td>\n",
       "      <td>NaN</td>\n",
       "      <td>949</td>\n",
       "      <td>tt0113277</td>\n",
       "      <td>en</td>\n",
       "      <td>Heat</td>\n",
       "      <td>Obsessive master thief, Neil McCauley leads a ...</td>\n",
       "      <td>...</td>\n",
       "      <td>1995-12-15</td>\n",
       "      <td>187436818.0</td>\n",
       "      <td>170.0</td>\n",
       "      <td>[{'iso_639_1': 'en', 'name': 'English'}, {'iso...</td>\n",
       "      <td>Released</td>\n",
       "      <td>A Los Angeles Crime Saga</td>\n",
       "      <td>Heat</td>\n",
       "      <td>False</td>\n",
       "      <td>7.7</td>\n",
       "      <td>1886.0</td>\n",
       "    </tr>\n",
       "    <tr>\n",
       "      <th>6</th>\n",
       "      <td>False</td>\n",
       "      <td>NaN</td>\n",
       "      <td>58000000</td>\n",
       "      <td>[Comedy, Romance]</td>\n",
       "      <td>NaN</td>\n",
       "      <td>11860</td>\n",
       "      <td>tt0114319</td>\n",
       "      <td>en</td>\n",
       "      <td>Sabrina</td>\n",
       "      <td>An ugly duckling having undergone a remarkable...</td>\n",
       "      <td>...</td>\n",
       "      <td>1995-12-15</td>\n",
       "      <td>0.0</td>\n",
       "      <td>127.0</td>\n",
       "      <td>[{'iso_639_1': 'fr', 'name': 'Français'}, {'is...</td>\n",
       "      <td>Released</td>\n",
       "      <td>You are cordially invited to the most surprisi...</td>\n",
       "      <td>Sabrina</td>\n",
       "      <td>False</td>\n",
       "      <td>6.2</td>\n",
       "      <td>141.0</td>\n",
       "    </tr>\n",
       "    <tr>\n",
       "      <th>7</th>\n",
       "      <td>False</td>\n",
       "      <td>NaN</td>\n",
       "      <td>0</td>\n",
       "      <td>[Action, Adventure, Drama, Family]</td>\n",
       "      <td>NaN</td>\n",
       "      <td>45325</td>\n",
       "      <td>tt0112302</td>\n",
       "      <td>en</td>\n",
       "      <td>Tom and Huck</td>\n",
       "      <td>A mischievous young boy, Tom Sawyer, witnesses...</td>\n",
       "      <td>...</td>\n",
       "      <td>1995-12-22</td>\n",
       "      <td>0.0</td>\n",
       "      <td>97.0</td>\n",
       "      <td>[{'iso_639_1': 'en', 'name': 'English'}, {'iso...</td>\n",
       "      <td>Released</td>\n",
       "      <td>The Original Bad Boys.</td>\n",
       "      <td>Tom and Huck</td>\n",
       "      <td>False</td>\n",
       "      <td>5.4</td>\n",
       "      <td>45.0</td>\n",
       "    </tr>\n",
       "    <tr>\n",
       "      <th>8</th>\n",
       "      <td>False</td>\n",
       "      <td>NaN</td>\n",
       "      <td>35000000</td>\n",
       "      <td>[Action, Adventure, Thriller]</td>\n",
       "      <td>NaN</td>\n",
       "      <td>9091</td>\n",
       "      <td>tt0114576</td>\n",
       "      <td>en</td>\n",
       "      <td>Sudden Death</td>\n",
       "      <td>International action superstar Jean Claude Van...</td>\n",
       "      <td>...</td>\n",
       "      <td>1995-12-22</td>\n",
       "      <td>64350171.0</td>\n",
       "      <td>106.0</td>\n",
       "      <td>[{'iso_639_1': 'en', 'name': 'English'}]</td>\n",
       "      <td>Released</td>\n",
       "      <td>Terror goes into overtime.</td>\n",
       "      <td>Sudden Death</td>\n",
       "      <td>False</td>\n",
       "      <td>5.5</td>\n",
       "      <td>174.0</td>\n",
       "    </tr>\n",
       "    <tr>\n",
       "      <th>9</th>\n",
       "      <td>False</td>\n",
       "      <td>{'id': 645, 'name': 'James Bond Collection', '...</td>\n",
       "      <td>58000000</td>\n",
       "      <td>[Adventure, Action, Thriller]</td>\n",
       "      <td>http://www.mgm.com/view/movie/757/Goldeneye/</td>\n",
       "      <td>710</td>\n",
       "      <td>tt0113189</td>\n",
       "      <td>en</td>\n",
       "      <td>GoldenEye</td>\n",
       "      <td>James Bond must unmask the mysterious head of ...</td>\n",
       "      <td>...</td>\n",
       "      <td>1995-11-16</td>\n",
       "      <td>352194034.0</td>\n",
       "      <td>130.0</td>\n",
       "      <td>[{'iso_639_1': 'en', 'name': 'English'}, {'iso...</td>\n",
       "      <td>Released</td>\n",
       "      <td>No limits. No fears. No substitutes.</td>\n",
       "      <td>GoldenEye</td>\n",
       "      <td>False</td>\n",
       "      <td>6.6</td>\n",
       "      <td>1194.0</td>\n",
       "    </tr>\n",
       "  </tbody>\n",
       "</table>\n",
       "<p>10 rows × 24 columns</p>\n",
       "</div>"
      ],
      "text/plain": [
       "   adult                              belongs_to_collection    budget  \\\n",
       "0  False  {'id': 10194, 'name': 'Toy Story Collection', ...  30000000   \n",
       "1  False                                                NaN  65000000   \n",
       "2  False  {'id': 119050, 'name': 'Grumpy Old Men Collect...         0   \n",
       "3  False                                                NaN  16000000   \n",
       "4  False  {'id': 96871, 'name': 'Father of the Bride Col...         0   \n",
       "5  False                                                NaN  60000000   \n",
       "6  False                                                NaN  58000000   \n",
       "7  False                                                NaN         0   \n",
       "8  False                                                NaN  35000000   \n",
       "9  False  {'id': 645, 'name': 'James Bond Collection', '...  58000000   \n",
       "\n",
       "                               genres  \\\n",
       "0         [Animation, Comedy, Family]   \n",
       "1        [Adventure, Fantasy, Family]   \n",
       "2                   [Romance, Comedy]   \n",
       "3            [Comedy, Drama, Romance]   \n",
       "4                            [Comedy]   \n",
       "5    [Action, Crime, Drama, Thriller]   \n",
       "6                   [Comedy, Romance]   \n",
       "7  [Action, Adventure, Drama, Family]   \n",
       "8       [Action, Adventure, Thriller]   \n",
       "9       [Adventure, Action, Thriller]   \n",
       "\n",
       "                                       homepage     id    imdb_id  \\\n",
       "0          http://toystory.disney.com/toy-story    862  tt0114709   \n",
       "1                                           NaN   8844  tt0113497   \n",
       "2                                           NaN  15602  tt0113228   \n",
       "3                                           NaN  31357  tt0114885   \n",
       "4                                           NaN  11862  tt0113041   \n",
       "5                                           NaN    949  tt0113277   \n",
       "6                                           NaN  11860  tt0114319   \n",
       "7                                           NaN  45325  tt0112302   \n",
       "8                                           NaN   9091  tt0114576   \n",
       "9  http://www.mgm.com/view/movie/757/Goldeneye/    710  tt0113189   \n",
       "\n",
       "  original_language               original_title  \\\n",
       "0                en                    Toy Story   \n",
       "1                en                      Jumanji   \n",
       "2                en             Grumpier Old Men   \n",
       "3                en            Waiting to Exhale   \n",
       "4                en  Father of the Bride Part II   \n",
       "5                en                         Heat   \n",
       "6                en                      Sabrina   \n",
       "7                en                 Tom and Huck   \n",
       "8                en                 Sudden Death   \n",
       "9                en                    GoldenEye   \n",
       "\n",
       "                                            overview    ...     release_date  \\\n",
       "0  Led by Woody, Andy's toys live happily in his ...    ...       1995-10-30   \n",
       "1  When siblings Judy and Peter discover an encha...    ...       1995-12-15   \n",
       "2  A family wedding reignites the ancient feud be...    ...       1995-12-22   \n",
       "3  Cheated on, mistreated and stepped on, the wom...    ...       1995-12-22   \n",
       "4  Just when George Banks has recovered from his ...    ...       1995-02-10   \n",
       "5  Obsessive master thief, Neil McCauley leads a ...    ...       1995-12-15   \n",
       "6  An ugly duckling having undergone a remarkable...    ...       1995-12-15   \n",
       "7  A mischievous young boy, Tom Sawyer, witnesses...    ...       1995-12-22   \n",
       "8  International action superstar Jean Claude Van...    ...       1995-12-22   \n",
       "9  James Bond must unmask the mysterious head of ...    ...       1995-11-16   \n",
       "\n",
       "       revenue runtime                                   spoken_languages  \\\n",
       "0  373554033.0    81.0           [{'iso_639_1': 'en', 'name': 'English'}]   \n",
       "1  262797249.0   104.0  [{'iso_639_1': 'en', 'name': 'English'}, {'iso...   \n",
       "2          0.0   101.0           [{'iso_639_1': 'en', 'name': 'English'}]   \n",
       "3   81452156.0   127.0           [{'iso_639_1': 'en', 'name': 'English'}]   \n",
       "4   76578911.0   106.0           [{'iso_639_1': 'en', 'name': 'English'}]   \n",
       "5  187436818.0   170.0  [{'iso_639_1': 'en', 'name': 'English'}, {'iso...   \n",
       "6          0.0   127.0  [{'iso_639_1': 'fr', 'name': 'Français'}, {'is...   \n",
       "7          0.0    97.0  [{'iso_639_1': 'en', 'name': 'English'}, {'iso...   \n",
       "8   64350171.0   106.0           [{'iso_639_1': 'en', 'name': 'English'}]   \n",
       "9  352194034.0   130.0  [{'iso_639_1': 'en', 'name': 'English'}, {'iso...   \n",
       "\n",
       "     status                                            tagline  \\\n",
       "0  Released                                                NaN   \n",
       "1  Released          Roll the dice and unleash the excitement!   \n",
       "2  Released  Still Yelling. Still Fighting. Still Ready for...   \n",
       "3  Released  Friends are the people who let you be yourself...   \n",
       "4  Released  Just When His World Is Back To Normal... He's ...   \n",
       "5  Released                           A Los Angeles Crime Saga   \n",
       "6  Released  You are cordially invited to the most surprisi...   \n",
       "7  Released                             The Original Bad Boys.   \n",
       "8  Released                         Terror goes into overtime.   \n",
       "9  Released               No limits. No fears. No substitutes.   \n",
       "\n",
       "                         title  video vote_average vote_count  \n",
       "0                    Toy Story  False          7.7     5415.0  \n",
       "1                      Jumanji  False          6.9     2413.0  \n",
       "2             Grumpier Old Men  False          6.5       92.0  \n",
       "3            Waiting to Exhale  False          6.1       34.0  \n",
       "4  Father of the Bride Part II  False          5.7      173.0  \n",
       "5                         Heat  False          7.7     1886.0  \n",
       "6                      Sabrina  False          6.2      141.0  \n",
       "7                 Tom and Huck  False          5.4       45.0  \n",
       "8                 Sudden Death  False          5.5      174.0  \n",
       "9                    GoldenEye  False          6.6     1194.0  \n",
       "\n",
       "[10 rows x 24 columns]"
      ]
     },
     "execution_count": 4,
     "metadata": {},
     "output_type": "execute_result"
    }
   ],
   "source": [
    "# deal with genre column\n",
    "movie['genres'] = movie['genres'].fillna('[]').apply(literal_eval).apply(lambda x: [i['name'] for i in x] if isinstance(x, list) else [])\n",
    "movie.head(10)"
   ]
  },
  {
   "cell_type": "code",
   "execution_count": 5,
   "metadata": {
    "collapsed": true
   },
   "outputs": [],
   "source": [
    "# deal with descriptions\n",
    "movie['tagline'] = movie['tagline'].fillna('')\n",
    "movie['description'] = movie['overview'] + movie['tagline'] \n",
    "movie['description'] = movie['description'].fillna('')\n"
   ]
  },
  {
   "cell_type": "code",
   "execution_count": 6,
   "metadata": {},
   "outputs": [
    {
     "data": {
      "text/plain": [
       "0    Led by Woody, Andy's toys live happily in his ...\n",
       "1    When siblings Judy and Peter discover an encha...\n",
       "2    A family wedding reignites the ancient feud be...\n",
       "3    Cheated on, mistreated and stepped on, the wom...\n",
       "4    Just when George Banks has recovered from his ...\n",
       "5    Obsessive master thief, Neil McCauley leads a ...\n",
       "6    An ugly duckling having undergone a remarkable...\n",
       "7    A mischievous young boy, Tom Sawyer, witnesses...\n",
       "8    International action superstar Jean Claude Van...\n",
       "9    James Bond must unmask the mysterious head of ...\n",
       "Name: description, dtype: object"
      ]
     },
     "execution_count": 6,
     "metadata": {},
     "output_type": "execute_result"
    }
   ],
   "source": [
    "movie['description'].head(10)"
   ]
  },
  {
   "cell_type": "code",
   "execution_count": 8,
   "metadata": {
    "collapsed": true
   },
   "outputs": [],
   "source": [
    "# transform description into matrix\n",
    "tf = TfidfVectorizer(analyzer='word',ngram_range=(1, 2),min_df=0, stop_words='english')\n",
    "tfidf_matrix = tf.fit_transform(movie['description'])"
   ]
  },
  {
   "cell_type": "code",
   "execution_count": 9,
   "metadata": {},
   "outputs": [
    {
     "data": {
      "text/plain": [
       "(45466, 1104495)"
      ]
     },
     "execution_count": 9,
     "metadata": {},
     "output_type": "execute_result"
    }
   ],
   "source": [
    "# check the size of the matrix\n",
    "tfidf_matrix.shape"
   ]
  },
  {
   "cell_type": "code",
   "execution_count": 10,
   "metadata": {
    "collapsed": true
   },
   "outputs": [],
   "source": [
    "#I will use cosine similarity to calculate a numeric quantity that denotes the similarity between two movies. \n",
    "#For efficiency, I will use sklearn's linear_kernel instead of cosine_similarities.\n",
    "\n",
    "cosine_sim = linear_kernel(tfidf_matrix, tfidf_matrix)\n",
    "\n",
    "# now i have a pairwise cosine similarity matrix for all movies in the dataset"
   ]
  },
  {
   "cell_type": "code",
   "execution_count": 11,
   "metadata": {
    "collapsed": true
   },
   "outputs": [],
   "source": [
    "movie = movie.reset_index()\n",
    "titles = movie['title']\n",
    "indices = pd.Series(movie.index, index=movie['title'])"
   ]
  },
  {
   "cell_type": "code",
   "execution_count": 12,
   "metadata": {},
   "outputs": [
    {
     "data": {
      "text/plain": [
       "title\n",
       "Toy Story                      0\n",
       "Jumanji                        1\n",
       "Grumpier Old Men               2\n",
       "Waiting to Exhale              3\n",
       "Father of the Bride Part II    4\n",
       "Heat                           5\n",
       "Sabrina                        6\n",
       "Tom and Huck                   7\n",
       "Sudden Death                   8\n",
       "GoldenEye                      9\n",
       "dtype: int64"
      ]
     },
     "execution_count": 12,
     "metadata": {},
     "output_type": "execute_result"
    }
   ],
   "source": [
    "indices.head(10)"
   ]
  },
  {
   "cell_type": "code",
   "execution_count": 13,
   "metadata": {
    "collapsed": true
   },
   "outputs": [],
   "source": [
    "# def the function to get movie recommendations\n",
    "def recommendations(title):\n",
    "    index = indices[title]\n",
    "    sim_scores = list(enumerate(cosine_sim[index]))\n",
    "    sim_scores = sorted(sim_scores, key=lambda x: x[1], reverse=True)\n",
    "    sim_scores = sim_scores[1:31]\n",
    "    movie_indices = [i[0] for i in sim_scores]\n",
    "    return titles.iloc[movie_indices]"
   ]
  },
  {
   "cell_type": "code",
   "execution_count": 14,
   "metadata": {},
   "outputs": [
    {
     "data": {
      "text/plain": [
       "33726                 Underdog Knight 2\n",
       "13513                    Nigdy w życiu!\n",
       "10966              An American Haunting\n",
       "9214                        Crane World\n",
       "16747    Chronicle of the Years of Fire\n",
       "31658                             Feast\n",
       "9684         The Ballad of the Sad Cafe\n",
       "25350                        Killer Cop\n",
       "21989                       Amber Alert\n",
       "31280          Astronaut: The Last Push\n",
       "Name: title, dtype: object"
      ]
     },
     "execution_count": 14,
     "metadata": {},
     "output_type": "execute_result"
    }
   ],
   "source": [
    "# try the function\n",
    "recommendations(\"Forrest Gump\").head(10)"
   ]
  },
  {
   "cell_type": "code",
   "execution_count": 15,
   "metadata": {
    "collapsed": true
   },
   "outputs": [],
   "source": [
    "# let's now redefine the function to make sure only 10 movies will be recommended\n",
    "def get_recommendations(title):\n",
    "    index = indices[title]\n",
    "    sim_scores = list(enumerate(cosine_sim[index]))\n",
    "    sim_scores = sorted(sim_scores, key=lambda x: x[1], reverse=True)\n",
    "    sim_scores = sim_scores[1:31]\n",
    "    movie_indices = [i[0] for i in sim_scores]\n",
    "    return titles.iloc[movie_indices].head(10)"
   ]
  },
  {
   "cell_type": "code",
   "execution_count": 16,
   "metadata": {},
   "outputs": [
    {
     "data": {
      "text/plain": [
       "44030    The Godfather Trilogy: 1972-1990\n",
       "1178               The Godfather: Part II\n",
       "31973                    Honor Thy Father\n",
       "21614                          The Family\n",
       "23126                          Blood Ties\n",
       "38030            A Mother Should Be Loved\n",
       "18322                     The Outside Man\n",
       "11297                    Household Saints\n",
       "10821                            Election\n",
       "4324                                 Made\n",
       "Name: title, dtype: object"
      ]
     },
     "execution_count": 16,
     "metadata": {},
     "output_type": "execute_result"
    }
   ],
   "source": [
    "get_recommendations(\"The Godfather\")"
   ]
  },
  {
   "cell_type": "markdown",
   "metadata": {},
   "source": [
    "### I then add genre to the recommendation criterion. "
   ]
  },
  {
   "cell_type": "code",
   "execution_count": 17,
   "metadata": {
    "collapsed": true
   },
   "outputs": [],
   "source": [
    "# adding genre to the criterion\n",
    "movie['description_genre'] = movie['description']+ movie['genres'].apply(lambda x: ' '.join(x))"
   ]
  },
  {
   "cell_type": "code",
   "execution_count": 18,
   "metadata": {},
   "outputs": [
    {
     "data": {
      "text/plain": [
       "0    Led by Woody, Andy's toys live happily in his ...\n",
       "1    When siblings Judy and Peter discover an encha...\n",
       "2    A family wedding reignites the ancient feud be...\n",
       "3    Cheated on, mistreated and stepped on, the wom...\n",
       "4    Just when George Banks has recovered from his ...\n",
       "5    Obsessive master thief, Neil McCauley leads a ...\n",
       "6    An ugly duckling having undergone a remarkable...\n",
       "7    A mischievous young boy, Tom Sawyer, witnesses...\n",
       "8    International action superstar Jean Claude Van...\n",
       "9    James Bond must unmask the mysterious head of ...\n",
       "Name: description_genre, dtype: object"
      ]
     },
     "execution_count": 18,
     "metadata": {},
     "output_type": "execute_result"
    }
   ],
   "source": [
    "movie['description_genre'].head(10)"
   ]
  },
  {
   "cell_type": "code",
   "execution_count": 19,
   "metadata": {
    "collapsed": true
   },
   "outputs": [],
   "source": [
    "# creating the matrix\n",
    "count = CountVectorizer(analyzer='word',ngram_range=(1, 2),min_df=0, stop_words='english')\n",
    "count_matrix = count.fit_transform(movie['description_genre'])"
   ]
  },
  {
   "cell_type": "code",
   "execution_count": 20,
   "metadata": {
    "collapsed": true
   },
   "outputs": [],
   "source": [
    "# using the same cosine similarity method to create the pairwise matrix\n",
    "cosine_sim = cosine_similarity(count_matrix, count_matrix)"
   ]
  },
  {
   "cell_type": "code",
   "execution_count": 21,
   "metadata": {},
   "outputs": [
    {
     "data": {
      "text/plain": [
       "title\n",
       "Toy Story                      0\n",
       "Jumanji                        1\n",
       "Grumpier Old Men               2\n",
       "Waiting to Exhale              3\n",
       "Father of the Bride Part II    4\n",
       "Heat                           5\n",
       "Sabrina                        6\n",
       "Tom and Huck                   7\n",
       "Sudden Death                   8\n",
       "GoldenEye                      9\n",
       "dtype: int64"
      ]
     },
     "execution_count": 21,
     "metadata": {},
     "output_type": "execute_result"
    }
   ],
   "source": [
    "movie = movie.reset_index()\n",
    "titles = movie['title']\n",
    "indices = pd.Series(movie.index, index=movie['title'])\n",
    "indices.head(10)"
   ]
  },
  {
   "cell_type": "code",
   "execution_count": 22,
   "metadata": {},
   "outputs": [
    {
     "data": {
      "text/plain": [
       "28276            Un milliard dans un billard\n",
       "29450                 Mörderische Erpressung\n",
       "37564            Between Eleven and Midnight\n",
       "38496                                A Crime\n",
       "39270              Barrela: Escola de Crimes\n",
       "41698    Paradies 505. Ein Niederbayernkrimi\n",
       "42775                                  Petos\n",
       "18023                        A Cab for Three\n",
       "24177                                 Cement\n",
       "28267        Judge Fayard Called the Sheriff\n",
       "Name: title, dtype: object"
      ]
     },
     "execution_count": 22,
     "metadata": {},
     "output_type": "execute_result"
    }
   ],
   "source": [
    "# use get_recommendations() defined before\n",
    "get_recommendations(\"The Godfather\")\n",
    "\n",
    "\n",
    "# This new recommender system tends to work worse than the first one.\n",
    "# So, i would keep the first one."
   ]
  },
  {
   "cell_type": "markdown",
   "metadata": {
    "collapsed": true
   },
   "source": [
    "### Considering the descriptions of movies are too general, I would like to try a different way to conduct the content-based recommender system. I will first try to use movie director, main actors, genre, and keywords to build a new recommender system following the previous logic."
   ]
  },
  {
   "cell_type": "code",
   "execution_count": 24,
   "metadata": {},
   "outputs": [],
   "source": [
    "# read in credits and keywords\n",
    "credit = pd.read_csv(\"/Users/wenjingyang/Documents/Winter 2018/MSiA423 - Analytics Value Chain/msia423_webapp/data/credits.csv\")\n",
    "keyword = pd.read_csv(\"/Users/wenjingyang/Documents/Winter 2018/MSiA423 - Analytics Value Chain/msia423_webapp/data/keywords.csv\")"
   ]
  },
  {
   "cell_type": "code",
   "execution_count": 25,
   "metadata": {},
   "outputs": [
    {
     "data": {
      "text/html": [
       "<div>\n",
       "<style scoped>\n",
       "    .dataframe tbody tr th:only-of-type {\n",
       "        vertical-align: middle;\n",
       "    }\n",
       "\n",
       "    .dataframe tbody tr th {\n",
       "        vertical-align: top;\n",
       "    }\n",
       "\n",
       "    .dataframe thead th {\n",
       "        text-align: right;\n",
       "    }\n",
       "</style>\n",
       "<table border=\"1\" class=\"dataframe\">\n",
       "  <thead>\n",
       "    <tr style=\"text-align: right;\">\n",
       "      <th></th>\n",
       "      <th>id</th>\n",
       "      <th>keywords</th>\n",
       "    </tr>\n",
       "  </thead>\n",
       "  <tbody>\n",
       "    <tr>\n",
       "      <th>0</th>\n",
       "      <td>862</td>\n",
       "      <td>[{'id': 931, 'name': 'jealousy'}, {'id': 4290,...</td>\n",
       "    </tr>\n",
       "    <tr>\n",
       "      <th>1</th>\n",
       "      <td>8844</td>\n",
       "      <td>[{'id': 10090, 'name': 'board game'}, {'id': 1...</td>\n",
       "    </tr>\n",
       "    <tr>\n",
       "      <th>2</th>\n",
       "      <td>15602</td>\n",
       "      <td>[{'id': 1495, 'name': 'fishing'}, {'id': 12392...</td>\n",
       "    </tr>\n",
       "    <tr>\n",
       "      <th>3</th>\n",
       "      <td>31357</td>\n",
       "      <td>[{'id': 818, 'name': 'based on novel'}, {'id':...</td>\n",
       "    </tr>\n",
       "    <tr>\n",
       "      <th>4</th>\n",
       "      <td>11862</td>\n",
       "      <td>[{'id': 1009, 'name': 'baby'}, {'id': 1599, 'n...</td>\n",
       "    </tr>\n",
       "    <tr>\n",
       "      <th>5</th>\n",
       "      <td>949</td>\n",
       "      <td>[{'id': 642, 'name': 'robbery'}, {'id': 703, '...</td>\n",
       "    </tr>\n",
       "    <tr>\n",
       "      <th>6</th>\n",
       "      <td>11860</td>\n",
       "      <td>[{'id': 90, 'name': 'paris'}, {'id': 380, 'nam...</td>\n",
       "    </tr>\n",
       "    <tr>\n",
       "      <th>7</th>\n",
       "      <td>45325</td>\n",
       "      <td>[]</td>\n",
       "    </tr>\n",
       "    <tr>\n",
       "      <th>8</th>\n",
       "      <td>9091</td>\n",
       "      <td>[{'id': 949, 'name': 'terrorist'}, {'id': 1562...</td>\n",
       "    </tr>\n",
       "    <tr>\n",
       "      <th>9</th>\n",
       "      <td>710</td>\n",
       "      <td>[{'id': 701, 'name': 'cuba'}, {'id': 769, 'nam...</td>\n",
       "    </tr>\n",
       "  </tbody>\n",
       "</table>\n",
       "</div>"
      ],
      "text/plain": [
       "      id                                           keywords\n",
       "0    862  [{'id': 931, 'name': 'jealousy'}, {'id': 4290,...\n",
       "1   8844  [{'id': 10090, 'name': 'board game'}, {'id': 1...\n",
       "2  15602  [{'id': 1495, 'name': 'fishing'}, {'id': 12392...\n",
       "3  31357  [{'id': 818, 'name': 'based on novel'}, {'id':...\n",
       "4  11862  [{'id': 1009, 'name': 'baby'}, {'id': 1599, 'n...\n",
       "5    949  [{'id': 642, 'name': 'robbery'}, {'id': 703, '...\n",
       "6  11860  [{'id': 90, 'name': 'paris'}, {'id': 380, 'nam...\n",
       "7  45325                                                 []\n",
       "8   9091  [{'id': 949, 'name': 'terrorist'}, {'id': 1562...\n",
       "9    710  [{'id': 701, 'name': 'cuba'}, {'id': 769, 'nam..."
      ]
     },
     "execution_count": 25,
     "metadata": {},
     "output_type": "execute_result"
    }
   ],
   "source": [
    "# have a peak of the table\n",
    "credit.head(10)\n",
    "keyword.head(10)"
   ]
  },
  {
   "cell_type": "code",
   "execution_count": 26,
   "metadata": {
    "collapsed": true
   },
   "outputs": [],
   "source": [
    "# transform the data type of id column\n",
    "keyword['id'] = keyword['id'].astype('int')\n",
    "credit['id'] = credit['id'].astype('int')"
   ]
  },
  {
   "cell_type": "code",
   "execution_count": 44,
   "metadata": {},
   "outputs": [],
   "source": [
    "movie['id'] = movie['id'].astype('int')"
   ]
  },
  {
   "cell_type": "code",
   "execution_count": 45,
   "metadata": {
    "collapsed": true
   },
   "outputs": [],
   "source": [
    "# merge movie, keyword, credit\n",
    "movie_merge = movie.merge(keyword, on='id')\n",
    "movie_merge = movie_merge.merge(credit, on='id')"
   ]
  },
  {
   "cell_type": "code",
   "execution_count": 46,
   "metadata": {},
   "outputs": [
    {
     "data": {
      "text/html": [
       "<div>\n",
       "<style scoped>\n",
       "    .dataframe tbody tr th:only-of-type {\n",
       "        vertical-align: middle;\n",
       "    }\n",
       "\n",
       "    .dataframe tbody tr th {\n",
       "        vertical-align: top;\n",
       "    }\n",
       "\n",
       "    .dataframe thead th {\n",
       "        text-align: right;\n",
       "    }\n",
       "</style>\n",
       "<table border=\"1\" class=\"dataframe\">\n",
       "  <thead>\n",
       "    <tr style=\"text-align: right;\">\n",
       "      <th></th>\n",
       "      <th>level_0</th>\n",
       "      <th>index</th>\n",
       "      <th>adult</th>\n",
       "      <th>belongs_to_collection</th>\n",
       "      <th>budget</th>\n",
       "      <th>genres</th>\n",
       "      <th>homepage</th>\n",
       "      <th>id</th>\n",
       "      <th>imdb_id</th>\n",
       "      <th>original_language</th>\n",
       "      <th>...</th>\n",
       "      <th>tagline</th>\n",
       "      <th>title</th>\n",
       "      <th>video</th>\n",
       "      <th>vote_average</th>\n",
       "      <th>vote_count</th>\n",
       "      <th>description</th>\n",
       "      <th>description_genre</th>\n",
       "      <th>keywords</th>\n",
       "      <th>cast</th>\n",
       "      <th>crew</th>\n",
       "    </tr>\n",
       "  </thead>\n",
       "  <tbody>\n",
       "    <tr>\n",
       "      <th>0</th>\n",
       "      <td>0</td>\n",
       "      <td>0</td>\n",
       "      <td>False</td>\n",
       "      <td>{'id': 10194, 'name': 'Toy Story Collection', ...</td>\n",
       "      <td>30000000</td>\n",
       "      <td>[Animation, Comedy, Family]</td>\n",
       "      <td>http://toystory.disney.com/toy-story</td>\n",
       "      <td>862</td>\n",
       "      <td>tt0114709</td>\n",
       "      <td>en</td>\n",
       "      <td>...</td>\n",
       "      <td></td>\n",
       "      <td>Toy Story</td>\n",
       "      <td>False</td>\n",
       "      <td>7.7</td>\n",
       "      <td>5415.0</td>\n",
       "      <td>Led by Woody, Andy's toys live happily in his ...</td>\n",
       "      <td>Led by Woody, Andy's toys live happily in his ...</td>\n",
       "      <td>[{'id': 931, 'name': 'jealousy'}, {'id': 4290,...</td>\n",
       "      <td>[{'cast_id': 14, 'character': 'Woody (voice)',...</td>\n",
       "      <td>[{'credit_id': '52fe4284c3a36847f8024f49', 'de...</td>\n",
       "    </tr>\n",
       "    <tr>\n",
       "      <th>1</th>\n",
       "      <td>1</td>\n",
       "      <td>1</td>\n",
       "      <td>False</td>\n",
       "      <td>NaN</td>\n",
       "      <td>65000000</td>\n",
       "      <td>[Adventure, Fantasy, Family]</td>\n",
       "      <td>NaN</td>\n",
       "      <td>8844</td>\n",
       "      <td>tt0113497</td>\n",
       "      <td>en</td>\n",
       "      <td>...</td>\n",
       "      <td>Roll the dice and unleash the excitement!</td>\n",
       "      <td>Jumanji</td>\n",
       "      <td>False</td>\n",
       "      <td>6.9</td>\n",
       "      <td>2413.0</td>\n",
       "      <td>When siblings Judy and Peter discover an encha...</td>\n",
       "      <td>When siblings Judy and Peter discover an encha...</td>\n",
       "      <td>[{'id': 10090, 'name': 'board game'}, {'id': 1...</td>\n",
       "      <td>[{'cast_id': 1, 'character': 'Alan Parrish', '...</td>\n",
       "      <td>[{'credit_id': '52fe44bfc3a36847f80a7cd1', 'de...</td>\n",
       "    </tr>\n",
       "    <tr>\n",
       "      <th>2</th>\n",
       "      <td>2</td>\n",
       "      <td>2</td>\n",
       "      <td>False</td>\n",
       "      <td>{'id': 119050, 'name': 'Grumpy Old Men Collect...</td>\n",
       "      <td>0</td>\n",
       "      <td>[Romance, Comedy]</td>\n",
       "      <td>NaN</td>\n",
       "      <td>15602</td>\n",
       "      <td>tt0113228</td>\n",
       "      <td>en</td>\n",
       "      <td>...</td>\n",
       "      <td>Still Yelling. Still Fighting. Still Ready for...</td>\n",
       "      <td>Grumpier Old Men</td>\n",
       "      <td>False</td>\n",
       "      <td>6.5</td>\n",
       "      <td>92.0</td>\n",
       "      <td>A family wedding reignites the ancient feud be...</td>\n",
       "      <td>A family wedding reignites the ancient feud be...</td>\n",
       "      <td>[{'id': 1495, 'name': 'fishing'}, {'id': 12392...</td>\n",
       "      <td>[{'cast_id': 2, 'character': 'Max Goldman', 'c...</td>\n",
       "      <td>[{'credit_id': '52fe466a9251416c75077a89', 'de...</td>\n",
       "    </tr>\n",
       "    <tr>\n",
       "      <th>3</th>\n",
       "      <td>3</td>\n",
       "      <td>3</td>\n",
       "      <td>False</td>\n",
       "      <td>NaN</td>\n",
       "      <td>16000000</td>\n",
       "      <td>[Comedy, Drama, Romance]</td>\n",
       "      <td>NaN</td>\n",
       "      <td>31357</td>\n",
       "      <td>tt0114885</td>\n",
       "      <td>en</td>\n",
       "      <td>...</td>\n",
       "      <td>Friends are the people who let you be yourself...</td>\n",
       "      <td>Waiting to Exhale</td>\n",
       "      <td>False</td>\n",
       "      <td>6.1</td>\n",
       "      <td>34.0</td>\n",
       "      <td>Cheated on, mistreated and stepped on, the wom...</td>\n",
       "      <td>Cheated on, mistreated and stepped on, the wom...</td>\n",
       "      <td>[{'id': 818, 'name': 'based on novel'}, {'id':...</td>\n",
       "      <td>[{'cast_id': 1, 'character': \"Savannah 'Vannah...</td>\n",
       "      <td>[{'credit_id': '52fe44779251416c91011acb', 'de...</td>\n",
       "    </tr>\n",
       "    <tr>\n",
       "      <th>4</th>\n",
       "      <td>4</td>\n",
       "      <td>4</td>\n",
       "      <td>False</td>\n",
       "      <td>{'id': 96871, 'name': 'Father of the Bride Col...</td>\n",
       "      <td>0</td>\n",
       "      <td>[Comedy]</td>\n",
       "      <td>NaN</td>\n",
       "      <td>11862</td>\n",
       "      <td>tt0113041</td>\n",
       "      <td>en</td>\n",
       "      <td>...</td>\n",
       "      <td>Just When His World Is Back To Normal... He's ...</td>\n",
       "      <td>Father of the Bride Part II</td>\n",
       "      <td>False</td>\n",
       "      <td>5.7</td>\n",
       "      <td>173.0</td>\n",
       "      <td>Just when George Banks has recovered from his ...</td>\n",
       "      <td>Just when George Banks has recovered from his ...</td>\n",
       "      <td>[{'id': 1009, 'name': 'baby'}, {'id': 1599, 'n...</td>\n",
       "      <td>[{'cast_id': 1, 'character': 'George Banks', '...</td>\n",
       "      <td>[{'credit_id': '52fe44959251416c75039ed7', 'de...</td>\n",
       "    </tr>\n",
       "    <tr>\n",
       "      <th>5</th>\n",
       "      <td>5</td>\n",
       "      <td>5</td>\n",
       "      <td>False</td>\n",
       "      <td>NaN</td>\n",
       "      <td>60000000</td>\n",
       "      <td>[Action, Crime, Drama, Thriller]</td>\n",
       "      <td>NaN</td>\n",
       "      <td>949</td>\n",
       "      <td>tt0113277</td>\n",
       "      <td>en</td>\n",
       "      <td>...</td>\n",
       "      <td>A Los Angeles Crime Saga</td>\n",
       "      <td>Heat</td>\n",
       "      <td>False</td>\n",
       "      <td>7.7</td>\n",
       "      <td>1886.0</td>\n",
       "      <td>Obsessive master thief, Neil McCauley leads a ...</td>\n",
       "      <td>Obsessive master thief, Neil McCauley leads a ...</td>\n",
       "      <td>[{'id': 642, 'name': 'robbery'}, {'id': 703, '...</td>\n",
       "      <td>[{'cast_id': 25, 'character': 'Lt. Vincent Han...</td>\n",
       "      <td>[{'credit_id': '52fe4292c3a36847f802916d', 'de...</td>\n",
       "    </tr>\n",
       "    <tr>\n",
       "      <th>6</th>\n",
       "      <td>6</td>\n",
       "      <td>6</td>\n",
       "      <td>False</td>\n",
       "      <td>NaN</td>\n",
       "      <td>58000000</td>\n",
       "      <td>[Comedy, Romance]</td>\n",
       "      <td>NaN</td>\n",
       "      <td>11860</td>\n",
       "      <td>tt0114319</td>\n",
       "      <td>en</td>\n",
       "      <td>...</td>\n",
       "      <td>You are cordially invited to the most surprisi...</td>\n",
       "      <td>Sabrina</td>\n",
       "      <td>False</td>\n",
       "      <td>6.2</td>\n",
       "      <td>141.0</td>\n",
       "      <td>An ugly duckling having undergone a remarkable...</td>\n",
       "      <td>An ugly duckling having undergone a remarkable...</td>\n",
       "      <td>[{'id': 90, 'name': 'paris'}, {'id': 380, 'nam...</td>\n",
       "      <td>[{'cast_id': 1, 'character': 'Linus Larrabee',...</td>\n",
       "      <td>[{'credit_id': '52fe44959251416c75039da9', 'de...</td>\n",
       "    </tr>\n",
       "    <tr>\n",
       "      <th>7</th>\n",
       "      <td>7</td>\n",
       "      <td>7</td>\n",
       "      <td>False</td>\n",
       "      <td>NaN</td>\n",
       "      <td>0</td>\n",
       "      <td>[Action, Adventure, Drama, Family]</td>\n",
       "      <td>NaN</td>\n",
       "      <td>45325</td>\n",
       "      <td>tt0112302</td>\n",
       "      <td>en</td>\n",
       "      <td>...</td>\n",
       "      <td>The Original Bad Boys.</td>\n",
       "      <td>Tom and Huck</td>\n",
       "      <td>False</td>\n",
       "      <td>5.4</td>\n",
       "      <td>45.0</td>\n",
       "      <td>A mischievous young boy, Tom Sawyer, witnesses...</td>\n",
       "      <td>A mischievous young boy, Tom Sawyer, witnesses...</td>\n",
       "      <td>[]</td>\n",
       "      <td>[{'cast_id': 2, 'character': 'Tom Sawyer', 'cr...</td>\n",
       "      <td>[{'credit_id': '52fe46bdc3a36847f810f797', 'de...</td>\n",
       "    </tr>\n",
       "    <tr>\n",
       "      <th>8</th>\n",
       "      <td>8</td>\n",
       "      <td>8</td>\n",
       "      <td>False</td>\n",
       "      <td>NaN</td>\n",
       "      <td>35000000</td>\n",
       "      <td>[Action, Adventure, Thriller]</td>\n",
       "      <td>NaN</td>\n",
       "      <td>9091</td>\n",
       "      <td>tt0114576</td>\n",
       "      <td>en</td>\n",
       "      <td>...</td>\n",
       "      <td>Terror goes into overtime.</td>\n",
       "      <td>Sudden Death</td>\n",
       "      <td>False</td>\n",
       "      <td>5.5</td>\n",
       "      <td>174.0</td>\n",
       "      <td>International action superstar Jean Claude Van...</td>\n",
       "      <td>International action superstar Jean Claude Van...</td>\n",
       "      <td>[{'id': 949, 'name': 'terrorist'}, {'id': 1562...</td>\n",
       "      <td>[{'cast_id': 1, 'character': 'Darren Francis T...</td>\n",
       "      <td>[{'credit_id': '52fe44dbc3a36847f80ae0f1', 'de...</td>\n",
       "    </tr>\n",
       "    <tr>\n",
       "      <th>9</th>\n",
       "      <td>9</td>\n",
       "      <td>9</td>\n",
       "      <td>False</td>\n",
       "      <td>{'id': 645, 'name': 'James Bond Collection', '...</td>\n",
       "      <td>58000000</td>\n",
       "      <td>[Adventure, Action, Thriller]</td>\n",
       "      <td>http://www.mgm.com/view/movie/757/Goldeneye/</td>\n",
       "      <td>710</td>\n",
       "      <td>tt0113189</td>\n",
       "      <td>en</td>\n",
       "      <td>...</td>\n",
       "      <td>No limits. No fears. No substitutes.</td>\n",
       "      <td>GoldenEye</td>\n",
       "      <td>False</td>\n",
       "      <td>6.6</td>\n",
       "      <td>1194.0</td>\n",
       "      <td>James Bond must unmask the mysterious head of ...</td>\n",
       "      <td>James Bond must unmask the mysterious head of ...</td>\n",
       "      <td>[{'id': 701, 'name': 'cuba'}, {'id': 769, 'nam...</td>\n",
       "      <td>[{'cast_id': 1, 'character': 'James Bond', 'cr...</td>\n",
       "      <td>[{'credit_id': '52fe426ec3a36847f801e14b', 'de...</td>\n",
       "    </tr>\n",
       "  </tbody>\n",
       "</table>\n",
       "<p>10 rows × 31 columns</p>\n",
       "</div>"
      ],
      "text/plain": [
       "   level_0  index  adult                              belongs_to_collection  \\\n",
       "0        0      0  False  {'id': 10194, 'name': 'Toy Story Collection', ...   \n",
       "1        1      1  False                                                NaN   \n",
       "2        2      2  False  {'id': 119050, 'name': 'Grumpy Old Men Collect...   \n",
       "3        3      3  False                                                NaN   \n",
       "4        4      4  False  {'id': 96871, 'name': 'Father of the Bride Col...   \n",
       "5        5      5  False                                                NaN   \n",
       "6        6      6  False                                                NaN   \n",
       "7        7      7  False                                                NaN   \n",
       "8        8      8  False                                                NaN   \n",
       "9        9      9  False  {'id': 645, 'name': 'James Bond Collection', '...   \n",
       "\n",
       "     budget                              genres  \\\n",
       "0  30000000         [Animation, Comedy, Family]   \n",
       "1  65000000        [Adventure, Fantasy, Family]   \n",
       "2         0                   [Romance, Comedy]   \n",
       "3  16000000            [Comedy, Drama, Romance]   \n",
       "4         0                            [Comedy]   \n",
       "5  60000000    [Action, Crime, Drama, Thriller]   \n",
       "6  58000000                   [Comedy, Romance]   \n",
       "7         0  [Action, Adventure, Drama, Family]   \n",
       "8  35000000       [Action, Adventure, Thriller]   \n",
       "9  58000000       [Adventure, Action, Thriller]   \n",
       "\n",
       "                                       homepage     id    imdb_id  \\\n",
       "0          http://toystory.disney.com/toy-story    862  tt0114709   \n",
       "1                                           NaN   8844  tt0113497   \n",
       "2                                           NaN  15602  tt0113228   \n",
       "3                                           NaN  31357  tt0114885   \n",
       "4                                           NaN  11862  tt0113041   \n",
       "5                                           NaN    949  tt0113277   \n",
       "6                                           NaN  11860  tt0114319   \n",
       "7                                           NaN  45325  tt0112302   \n",
       "8                                           NaN   9091  tt0114576   \n",
       "9  http://www.mgm.com/view/movie/757/Goldeneye/    710  tt0113189   \n",
       "\n",
       "  original_language                        ...                          \\\n",
       "0                en                        ...                           \n",
       "1                en                        ...                           \n",
       "2                en                        ...                           \n",
       "3                en                        ...                           \n",
       "4                en                        ...                           \n",
       "5                en                        ...                           \n",
       "6                en                        ...                           \n",
       "7                en                        ...                           \n",
       "8                en                        ...                           \n",
       "9                en                        ...                           \n",
       "\n",
       "                                             tagline  \\\n",
       "0                                                      \n",
       "1          Roll the dice and unleash the excitement!   \n",
       "2  Still Yelling. Still Fighting. Still Ready for...   \n",
       "3  Friends are the people who let you be yourself...   \n",
       "4  Just When His World Is Back To Normal... He's ...   \n",
       "5                           A Los Angeles Crime Saga   \n",
       "6  You are cordially invited to the most surprisi...   \n",
       "7                             The Original Bad Boys.   \n",
       "8                         Terror goes into overtime.   \n",
       "9               No limits. No fears. No substitutes.   \n",
       "\n",
       "                         title  video vote_average vote_count  \\\n",
       "0                    Toy Story  False          7.7     5415.0   \n",
       "1                      Jumanji  False          6.9     2413.0   \n",
       "2             Grumpier Old Men  False          6.5       92.0   \n",
       "3            Waiting to Exhale  False          6.1       34.0   \n",
       "4  Father of the Bride Part II  False          5.7      173.0   \n",
       "5                         Heat  False          7.7     1886.0   \n",
       "6                      Sabrina  False          6.2      141.0   \n",
       "7                 Tom and Huck  False          5.4       45.0   \n",
       "8                 Sudden Death  False          5.5      174.0   \n",
       "9                    GoldenEye  False          6.6     1194.0   \n",
       "\n",
       "                                         description  \\\n",
       "0  Led by Woody, Andy's toys live happily in his ...   \n",
       "1  When siblings Judy and Peter discover an encha...   \n",
       "2  A family wedding reignites the ancient feud be...   \n",
       "3  Cheated on, mistreated and stepped on, the wom...   \n",
       "4  Just when George Banks has recovered from his ...   \n",
       "5  Obsessive master thief, Neil McCauley leads a ...   \n",
       "6  An ugly duckling having undergone a remarkable...   \n",
       "7  A mischievous young boy, Tom Sawyer, witnesses...   \n",
       "8  International action superstar Jean Claude Van...   \n",
       "9  James Bond must unmask the mysterious head of ...   \n",
       "\n",
       "                                   description_genre  \\\n",
       "0  Led by Woody, Andy's toys live happily in his ...   \n",
       "1  When siblings Judy and Peter discover an encha...   \n",
       "2  A family wedding reignites the ancient feud be...   \n",
       "3  Cheated on, mistreated and stepped on, the wom...   \n",
       "4  Just when George Banks has recovered from his ...   \n",
       "5  Obsessive master thief, Neil McCauley leads a ...   \n",
       "6  An ugly duckling having undergone a remarkable...   \n",
       "7  A mischievous young boy, Tom Sawyer, witnesses...   \n",
       "8  International action superstar Jean Claude Van...   \n",
       "9  James Bond must unmask the mysterious head of ...   \n",
       "\n",
       "                                            keywords  \\\n",
       "0  [{'id': 931, 'name': 'jealousy'}, {'id': 4290,...   \n",
       "1  [{'id': 10090, 'name': 'board game'}, {'id': 1...   \n",
       "2  [{'id': 1495, 'name': 'fishing'}, {'id': 12392...   \n",
       "3  [{'id': 818, 'name': 'based on novel'}, {'id':...   \n",
       "4  [{'id': 1009, 'name': 'baby'}, {'id': 1599, 'n...   \n",
       "5  [{'id': 642, 'name': 'robbery'}, {'id': 703, '...   \n",
       "6  [{'id': 90, 'name': 'paris'}, {'id': 380, 'nam...   \n",
       "7                                                 []   \n",
       "8  [{'id': 949, 'name': 'terrorist'}, {'id': 1562...   \n",
       "9  [{'id': 701, 'name': 'cuba'}, {'id': 769, 'nam...   \n",
       "\n",
       "                                                cast  \\\n",
       "0  [{'cast_id': 14, 'character': 'Woody (voice)',...   \n",
       "1  [{'cast_id': 1, 'character': 'Alan Parrish', '...   \n",
       "2  [{'cast_id': 2, 'character': 'Max Goldman', 'c...   \n",
       "3  [{'cast_id': 1, 'character': \"Savannah 'Vannah...   \n",
       "4  [{'cast_id': 1, 'character': 'George Banks', '...   \n",
       "5  [{'cast_id': 25, 'character': 'Lt. Vincent Han...   \n",
       "6  [{'cast_id': 1, 'character': 'Linus Larrabee',...   \n",
       "7  [{'cast_id': 2, 'character': 'Tom Sawyer', 'cr...   \n",
       "8  [{'cast_id': 1, 'character': 'Darren Francis T...   \n",
       "9  [{'cast_id': 1, 'character': 'James Bond', 'cr...   \n",
       "\n",
       "                                                crew  \n",
       "0  [{'credit_id': '52fe4284c3a36847f8024f49', 'de...  \n",
       "1  [{'credit_id': '52fe44bfc3a36847f80a7cd1', 'de...  \n",
       "2  [{'credit_id': '52fe466a9251416c75077a89', 'de...  \n",
       "3  [{'credit_id': '52fe44779251416c91011acb', 'de...  \n",
       "4  [{'credit_id': '52fe44959251416c75039ed7', 'de...  \n",
       "5  [{'credit_id': '52fe4292c3a36847f802916d', 'de...  \n",
       "6  [{'credit_id': '52fe44959251416c75039da9', 'de...  \n",
       "7  [{'credit_id': '52fe46bdc3a36847f810f797', 'de...  \n",
       "8  [{'credit_id': '52fe44dbc3a36847f80ae0f1', 'de...  \n",
       "9  [{'credit_id': '52fe426ec3a36847f801e14b', 'de...  \n",
       "\n",
       "[10 rows x 31 columns]"
      ]
     },
     "execution_count": 46,
     "metadata": {},
     "output_type": "execute_result"
    }
   ],
   "source": [
    "# have a peak of the merged table\n",
    "movie_merge.head(10)"
   ]
  },
  {
   "cell_type": "code",
   "execution_count": 47,
   "metadata": {
    "collapsed": true
   },
   "outputs": [],
   "source": [
    "# for the credits table:\n",
    "# we only take directors from crew\n",
    "# and pick the top2 actors from cast\n",
    "movie_merge['cast'] = movie_merge['cast'].apply(literal_eval)\n",
    "movie_merge['crew'] = movie_merge['crew'].apply(literal_eval)\n",
    "movie_merge['keywords'] = movie_merge['keywords'].apply(literal_eval)\n",
    "movie_merge['cast_size'] = movie_merge['cast'].apply(lambda x: len(x))\n",
    "movie_merge['crew_size'] = movie_merge['crew'].apply(lambda x: len(x))"
   ]
  },
  {
   "cell_type": "code",
   "execution_count": 48,
   "metadata": {
    "collapsed": true
   },
   "outputs": [],
   "source": [
    "# extract director from crew\n",
    "def get_director(input):\n",
    "    for item in input:\n",
    "        if (item['job'] == 'Director'):\n",
    "            return item['name']\n",
    "    return np.nan"
   ]
  },
  {
   "cell_type": "code",
   "execution_count": 49,
   "metadata": {
    "collapsed": true
   },
   "outputs": [],
   "source": [
    "movie_merge['director'] = movie_merge['crew'].apply(get_director)"
   ]
  },
  {
   "cell_type": "code",
   "execution_count": 50,
   "metadata": {},
   "outputs": [
    {
     "data": {
      "text/plain": [
       "0      John Lasseter\n",
       "1       Joe Johnston\n",
       "2      Howard Deutch\n",
       "3    Forest Whitaker\n",
       "4      Charles Shyer\n",
       "5       Michael Mann\n",
       "6     Sydney Pollack\n",
       "7       Peter Hewitt\n",
       "8        Peter Hyams\n",
       "9    Martin Campbell\n",
       "Name: director, dtype: object"
      ]
     },
     "execution_count": 50,
     "metadata": {},
     "output_type": "execute_result"
    }
   ],
   "source": [
    "movie_merge['director'].head(10)"
   ]
  },
  {
   "cell_type": "code",
   "execution_count": 51,
   "metadata": {},
   "outputs": [
    {
     "data": {
      "text/plain": [
       "0                    [Tom Hanks, Tim Allen]\n",
       "1           [Robin Williams, Jonathan Hyde]\n",
       "2             [Walter Matthau, Jack Lemmon]\n",
       "3         [Whitney Houston, Angela Bassett]\n",
       "4              [Steve Martin, Diane Keaton]\n",
       "5               [Al Pacino, Robert De Niro]\n",
       "6             [Harrison Ford, Julia Ormond]\n",
       "7     [Jonathan Taylor Thomas, Brad Renfro]\n",
       "8    [Jean-Claude Van Damme, Powers Boothe]\n",
       "9               [Pierce Brosnan, Sean Bean]\n",
       "Name: cast, dtype: object"
      ]
     },
     "execution_count": 51,
     "metadata": {},
     "output_type": "execute_result"
    }
   ],
   "source": [
    "# extract actors from cast\n",
    "movie_merge['cast'] = movie_merge['cast'].apply(lambda x: [i['name'] for i in x] if isinstance(x, list) else [])\n",
    "movie_merge['cast'] = movie_merge['cast'].apply(lambda x: x[:2] if len(x) >=2 else x)\n",
    "movie_merge['cast'].head(10)"
   ]
  },
  {
   "cell_type": "code",
   "execution_count": 52,
   "metadata": {
    "collapsed": true
   },
   "outputs": [],
   "source": [
    "# deal with keywords\n",
    "movie_merge['keywords'] = movie_merge['keywords'].apply(lambda x: [i['name'] for i in x] if isinstance(x, list) else [])"
   ]
  },
  {
   "cell_type": "code",
   "execution_count": 53,
   "metadata": {},
   "outputs": [
    {
     "data": {
      "text/plain": [
       "0    [jealousy, toy, boy, friendship, friends, riva...\n",
       "1    [board game, disappearance, based on children'...\n",
       "2    [fishing, best friend, duringcreditsstinger, o...\n",
       "3    [based on novel, interracial relationship, sin...\n",
       "4    [baby, midlife crisis, confidence, aging, daug...\n",
       "5    [robbery, detective, bank, obsession, chase, s...\n",
       "6    [paris, brother brother relationship, chauffeu...\n",
       "7                                                   []\n",
       "8      [terrorist, hostage, explosive, vice president]\n",
       "9    [cuba, falsely accused, secret identity, compu...\n",
       "Name: keywords, dtype: object"
      ]
     },
     "execution_count": 53,
     "metadata": {},
     "output_type": "execute_result"
    }
   ],
   "source": [
    "movie_merge['keywords'].head(10)"
   ]
  },
  {
   "cell_type": "code",
   "execution_count": 54,
   "metadata": {
    "collapsed": true
   },
   "outputs": [],
   "source": [
    "# tranform actors into lower case\n",
    "movie_merge['cast'] = movie_merge['cast'].apply(lambda x: [str.lower(i.replace(\" \", \"\")) for i in x])"
   ]
  },
  {
   "cell_type": "code",
   "execution_count": 55,
   "metadata": {
    "collapsed": true
   },
   "outputs": [],
   "source": [
    "# transform directors into lower case\n",
    "movie_merge['director'] = movie_merge['director'].astype('str').apply(lambda x: str.lower(x.replace(\" \", \"\")))\n",
    "movie_merge['director'] = movie_merge['director'].apply(lambda x: [x,x, x])"
   ]
  },
  {
   "cell_type": "code",
   "execution_count": 56,
   "metadata": {
    "collapsed": true
   },
   "outputs": [],
   "source": [
    "# count the frequency of each keywords\n",
    "s = movie_merge.apply(lambda x: pd.Series(x['keywords']),axis=1).stack().reset_index(level=1, drop=True)\n",
    "s.name = 'keyword'"
   ]
  },
  {
   "cell_type": "code",
   "execution_count": 57,
   "metadata": {},
   "outputs": [
    {
     "data": {
      "text/plain": [
       "woman director      3128\n",
       "independent film    1942\n",
       "murder              1314\n",
       "based on novel       840\n",
       "musical              734\n",
       "Name: keyword, dtype: int64"
      ]
     },
     "execution_count": 57,
     "metadata": {},
     "output_type": "execute_result"
    }
   ],
   "source": [
    "s = s.value_counts()\n",
    "s[:5]"
   ]
  },
  {
   "cell_type": "code",
   "execution_count": 58,
   "metadata": {
    "collapsed": true
   },
   "outputs": [],
   "source": [
    "# As i am doing frequency count, the keyword with frequency as 1 should be dropped.\n",
    "s = s[s>1]"
   ]
  },
  {
   "cell_type": "code",
   "execution_count": 59,
   "metadata": {},
   "outputs": [],
   "source": [
    "# we have to make sure singular and plural forms of a word can be recognized as one single word\n",
    "stemmer = SnowballStemmer('english')"
   ]
  },
  {
   "cell_type": "code",
   "execution_count": 60,
   "metadata": {
    "collapsed": true
   },
   "outputs": [],
   "source": [
    "# filter keywords\n",
    "def filter_keywords(x):\n",
    "    words = []\n",
    "    for item in x:\n",
    "        if item in s:\n",
    "            words.append(item)\n",
    "    return words"
   ]
  },
  {
   "cell_type": "code",
   "execution_count": 61,
   "metadata": {
    "collapsed": true
   },
   "outputs": [],
   "source": [
    "movie_merge['keywords'] = movie_merge['keywords'].apply(filter_keywords)\n",
    "movie_merge['keywords'] = movie_merge['keywords'].apply(lambda x: [stemmer.stem(i) for i in x])\n",
    "movie_merge['keywords'] = movie_merge['keywords'].apply(lambda x: [str.lower(i.replace(\" \", \"\")) for i in x])"
   ]
  },
  {
   "cell_type": "code",
   "execution_count": 62,
   "metadata": {
    "collapsed": true
   },
   "outputs": [],
   "source": [
    "movie_merge['criteria'] = movie_merge['keywords'] + movie_merge['cast'] + movie_merge['director'] + movie_merge['genres']\n",
    "movie_merge['criteria'] = movie_merge['criteria'].apply(lambda x: ' '.join(x))"
   ]
  },
  {
   "cell_type": "code",
   "execution_count": 63,
   "metadata": {
    "collapsed": true
   },
   "outputs": [],
   "source": [
    "count = CountVectorizer(analyzer='word',ngram_range=(1, 2),min_df=0, stop_words='english')\n",
    "count_matrix = count.fit_transform(movie_merge['criteria'])\n",
    "cosine_sim = cosine_similarity(count_matrix, count_matrix)"
   ]
  },
  {
   "cell_type": "code",
   "execution_count": 64,
   "metadata": {
    "collapsed": true
   },
   "outputs": [],
   "source": [
    "titles = movie_merge['title']\n",
    "indices = pd.Series(movie_merge.index, index=movie_merge['title'])"
   ]
  },
  {
   "cell_type": "code",
   "execution_count": 65,
   "metadata": {},
   "outputs": [
    {
     "data": {
      "text/plain": [
       "4470     Tucker: The Man and His Dream\n",
       "15609                  The Rain People\n",
       "1199            The Godfather: Part II\n",
       "1614                     The Rainmaker\n",
       "6040                One from the Heart\n",
       "4602                   The Cotton Club\n",
       "23142                       Captain EO\n",
       "4012                  Gardens of Stone\n",
       "1934           The Godfather: Part III\n",
       "3635                  The Conversation\n",
       "Name: title, dtype: object"
      ]
     },
     "execution_count": 65,
     "metadata": {},
     "output_type": "execute_result"
    }
   ],
   "source": [
    "get_recommendations('The Godfather')\n",
    "\n",
    "# Now, we have a better recommender system."
   ]
  },
  {
   "cell_type": "code",
   "execution_count": 66,
   "metadata": {},
   "outputs": [
    {
     "data": {
      "text/plain": [
       "39087                  The Lift\n",
       "8280     I Wanna Hold Your Hand\n",
       "5035                  Used Cars\n",
       "42076                    Allied\n",
       "3924                  Cast Away\n",
       "3167          Death Becomes Her\n",
       "3703          What Lies Beneath\n",
       "31692                  The Walk\n",
       "14566         A Christmas Carol\n",
       "8321          The Polar Express\n",
       "Name: title, dtype: object"
      ]
     },
     "execution_count": 66,
     "metadata": {},
     "output_type": "execute_result"
    }
   ],
   "source": [
    "get_recommendations('Forrest Gump')"
   ]
  },
  {
   "cell_type": "code",
   "execution_count": null,
   "metadata": {
    "collapsed": true
   },
   "outputs": [],
   "source": []
  }
 ],
 "metadata": {
  "kernelspec": {
   "display_name": "Python 3",
   "language": "python",
   "name": "python3"
  },
  "language_info": {
   "codemirror_mode": {
    "name": "ipython",
    "version": 3
   },
   "file_extension": ".py",
   "mimetype": "text/x-python",
   "name": "python",
   "nbconvert_exporter": "python",
   "pygments_lexer": "ipython3",
   "version": "3.6.1"
  }
 },
 "nbformat": 4,
 "nbformat_minor": 2
}
